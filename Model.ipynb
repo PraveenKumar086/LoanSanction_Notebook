{
 "cells": [
  {
   "cell_type": "markdown",
   "metadata": {},
   "source": [
    "# Import required libraries"
   ]
  },
  {
   "cell_type": "code",
   "execution_count": 7,
   "metadata": {},
   "outputs": [],
   "source": [
    "#import required libraries\n",
    "import numpy as np\n",
    "import pandas as pd\n",
    "import matplotlib.pyplot as plt\n",
    "import seaborn as sns\n",
    "\n",
    "import scipy\n",
    "from scipy.stats import chi2_contingency\n",
    "from scipy.stats import pearsonr\n",
    "\n",
    "from sklearn.preprocessing import StandardScaler\n",
    "from sklearn.preprocessing import MinMaxScaler\n",
    "from sklearn.model_selection import train_test_split\n",
    "from sklearn.model_selection import GridSearchCV\n",
    "from sklearn.linear_model import LogisticRegression\n",
    "from sklearn.ensemble import RandomForestClassifier,AdaBoostClassifier\n",
    "from sklearn.neural_network import MLPClassifier\n",
    "from sklearn import tree\n",
    "from sklearn.metrics import confusion_matrix,f1_score\n",
    "\n",
    "from imblearn.over_sampling import RandomOverSampler\n",
    "from imblearn.under_sampling import RandomUnderSampler\n",
    "from imblearn.combine import SMOTETomek\n",
    "from collections import Counter\n",
    "from prettytable import PrettyTable\n",
    "\n",
    "%matplotlib inline\n",
    "pd.options.display.max_columns = None"
   ]
  },
  {
   "cell_type": "code",
   "execution_count": 8,
   "metadata": {},
   "outputs": [],
   "source": [
    "#load application data\n",
    "application_data = pd.read_csv('application_data.csv')"
   ]
  },
  {
   "cell_type": "code",
   "execution_count": 9,
   "metadata": {},
   "outputs": [
    {
     "name": "stdout",
     "output_type": "stream",
     "text": [
      "(307511, 72)\n"
     ]
    }
   ],
   "source": [
    "#remove columns with more than 30% missing values\n",
    "\n",
    "#get columns_names and number of missing values\n",
    "null_columns_temp = application_data.isnull().sum() \n",
    "\n",
    "#get column_names that has more than 30% missing values\n",
    "null_columns = list(null_columns_temp[null_columns_temp.values>(0.3*len(application_data))].index)\n",
    "\n",
    "#remove columns with more than 30% missing values\n",
    "application_data.drop(labels=null_columns,axis=1,inplace=True)\n",
    "\n",
    "print(application_data.shape)"
   ]
  },
  {
   "cell_type": "code",
   "execution_count": 10,
   "metadata": {},
   "outputs": [],
   "source": [
    "categorical_columns = application_data.select_dtypes(exclude=[\"int64\",\"float64\"]).copy()\n",
    "numerical_columns = application_data.select_dtypes(exclude=[\"object\",\"category\"]).copy()"
   ]
  },
  {
   "cell_type": "code",
   "execution_count": 11,
   "metadata": {},
   "outputs": [
    {
     "name": "stdout",
     "output_type": "stream",
     "text": [
      "Cash loans         278232\n",
      "Revolving loans     29279\n",
      "Name: NAME_CONTRACT_TYPE, dtype: int64\n",
      "----------------------------------------\n",
      "F      202448\n",
      "M      105059\n",
      "XNA         4\n",
      "Name: CODE_GENDER, dtype: int64\n",
      "----------------------------------------\n",
      "N    202924\n",
      "Y    104587\n",
      "Name: FLAG_OWN_CAR, dtype: int64\n",
      "----------------------------------------\n",
      "Y    213312\n",
      "N     94199\n",
      "Name: FLAG_OWN_REALTY, dtype: int64\n",
      "----------------------------------------\n",
      "Unaccompanied      248526\n",
      "Family              40149\n",
      "Spouse, partner     11370\n",
      "Children             3267\n",
      "Other_B              1770\n",
      "Other_A               866\n",
      "Group of people       271\n",
      "Name: NAME_TYPE_SUITE, dtype: int64\n",
      "----------------------------------------\n",
      "Working                 158774\n",
      "Commercial associate     71617\n",
      "Pensioner                55362\n",
      "State servant            21703\n",
      "Unemployed                  22\n",
      "Student                     18\n",
      "Businessman                 10\n",
      "Maternity leave              5\n",
      "Name: NAME_INCOME_TYPE, dtype: int64\n",
      "----------------------------------------\n",
      "Secondary / secondary special    218391\n",
      "Higher education                  74863\n",
      "Incomplete higher                 10277\n",
      "Lower secondary                    3816\n",
      "Academic degree                     164\n",
      "Name: NAME_EDUCATION_TYPE, dtype: int64\n",
      "----------------------------------------\n",
      "Married                 196432\n",
      "Single / not married     45444\n",
      "Civil marriage           29775\n",
      "Separated                19770\n",
      "Widow                    16088\n",
      "Unknown                      2\n",
      "Name: NAME_FAMILY_STATUS, dtype: int64\n",
      "----------------------------------------\n",
      "House / apartment      272868\n",
      "With parents            14840\n",
      "Municipal apartment     11183\n",
      "Rented apartment         4881\n",
      "Office apartment         2617\n",
      "Co-op apartment          1122\n",
      "Name: NAME_HOUSING_TYPE, dtype: int64\n",
      "----------------------------------------\n",
      "TUESDAY      53901\n",
      "WEDNESDAY    51934\n",
      "MONDAY       50714\n",
      "THURSDAY     50591\n",
      "FRIDAY       50338\n",
      "SATURDAY     33852\n",
      "SUNDAY       16181\n",
      "Name: WEEKDAY_APPR_PROCESS_START, dtype: int64\n",
      "----------------------------------------\n",
      "Business Entity Type 3    67992\n",
      "XNA                       55374\n",
      "Self-employed             38412\n",
      "Other                     16683\n",
      "Medicine                  11193\n",
      "Business Entity Type 2    10553\n",
      "Government                10404\n",
      "School                     8893\n",
      "Trade: type 7              7831\n",
      "Kindergarten               6880\n",
      "Construction               6721\n",
      "Business Entity Type 1     5984\n",
      "Transport: type 4          5398\n",
      "Trade: type 3              3492\n",
      "Industry: type 9           3368\n",
      "Industry: type 3           3278\n",
      "Security                   3247\n",
      "Housing                    2958\n",
      "Industry: type 11          2704\n",
      "Military                   2634\n",
      "Bank                       2507\n",
      "Agriculture                2454\n",
      "Police                     2341\n",
      "Transport: type 2          2204\n",
      "Postal                     2157\n",
      "Security Ministries        1974\n",
      "Trade: type 2              1900\n",
      "Restaurant                 1811\n",
      "Services                   1575\n",
      "University                 1327\n",
      "Industry: type 7           1307\n",
      "Transport: type 3          1187\n",
      "Industry: type 1           1039\n",
      "Hotel                       966\n",
      "Electricity                 950\n",
      "Industry: type 4            877\n",
      "Trade: type 6               631\n",
      "Industry: type 5            599\n",
      "Insurance                   597\n",
      "Telecom                     577\n",
      "Emergency                   560\n",
      "Industry: type 2            458\n",
      "Advertising                 429\n",
      "Realtor                     396\n",
      "Culture                     379\n",
      "Industry: type 12           369\n",
      "Trade: type 1               348\n",
      "Mobile                      317\n",
      "Legal Services              305\n",
      "Cleaning                    260\n",
      "Transport: type 1           201\n",
      "Industry: type 6            112\n",
      "Industry: type 10           109\n",
      "Religion                     85\n",
      "Industry: type 13            67\n",
      "Trade: type 4                64\n",
      "Trade: type 5                49\n",
      "Industry: type 8             24\n",
      "Name: ORGANIZATION_TYPE, dtype: int64\n",
      "----------------------------------------\n"
     ]
    }
   ],
   "source": [
    "#get value counts of each category in categorical columns\n",
    "for i in categorical_columns:\n",
    "    print(application_data[i].value_counts(normalize = False))\n",
    "    print('-'*40)"
   ]
  },
  {
   "cell_type": "code",
   "execution_count": 12,
   "metadata": {},
   "outputs": [],
   "source": [
    "application_data=application_data.drop(application_data.loc[application_data['CODE_GENDER']=='XNA'].index)\n",
    "application_data=application_data.drop(application_data.loc[application_data['NAME_FAMILY_STATUS']=='Unknown'].index)"
   ]
  },
  {
   "cell_type": "code",
   "execution_count": 13,
   "metadata": {},
   "outputs": [],
   "source": [
    "#imputing categorical columns with mode values and numerical columns with median values\n",
    "for i in application_data.columns:\n",
    "    if i in categorical_columns:\n",
    "        application_data[i].fillna(application_data[i].mode(), inplace = True)\n",
    "    else:\n",
    "        application_data[i].fillna(application_data[i].median(), inplace = True)"
   ]
  },
  {
   "cell_type": "code",
   "execution_count": 14,
   "metadata": {},
   "outputs": [],
   "source": [
    "#converting days to years\n",
    "application_data['DAYS_BIRTH'] = application_data['DAYS_BIRTH'].apply(lambda x : round((-1.0)*x/365) if x < 0 else round(x/365) )\n",
    "application_data['DAYS_EMPLOYED'] = application_data['DAYS_EMPLOYED'].apply(lambda x : round((-1.0)*x/365) if x < 0 else round(x/365) )\n",
    "application_data['DAYS_REGISTRATION'] = application_data['DAYS_REGISTRATION'].apply(lambda x : round((-1.0)*x/365) if x < 0 else round(x/365) )\n",
    "application_data['DAYS_ID_PUBLISH'] = application_data['DAYS_ID_PUBLISH'].apply(lambda x : round((-1.0)*x/365) if x < 0 else round(x/365) )\n",
    "application_data['DAYS_LAST_PHONE_CHANGE'] = application_data['DAYS_LAST_PHONE_CHANGE'].apply(lambda x : round((-1.0)*x/365) if x < 0 else round(x/365) )"
   ]
  },
  {
   "cell_type": "code",
   "execution_count": 15,
   "metadata": {},
   "outputs": [
    {
     "name": "stdout",
     "output_type": "stream",
     "text": [
      "SK_ID_CURR\n"
     ]
    },
    {
     "data": {
      "image/png": "[encoded data removed]",
      "text/plain": [
       "<Figure size 432x288 with 1 Axes>"
      ]
     },
     "metadata": {
      "needs_background": "light"
     },
     "output_type": "display_data"
    },
    {
     "name": "stdout",
     "output_type": "stream",
     "text": [
      "------------------------------------------------------------------------------------------------------------------------\n",
      "TARGET\n"
     ]
    },
    {
     "data": {
      "image/png": "[encoded data removed]",
      "text/plain": [
       "<Figure size 432x288 with 1 Axes>"
      ]
     },
     "metadata": {
      "needs_background": "light"
     },
     "output_type": "display_data"
    },
    {
     "name": "stdout",
     "output_type": "stream",
     "text": [
      "------------------------------------------------------------------------------------------------------------------------\n",
      "CNT_CHILDREN\n"
     ]
    },
    {
     "data": {
      "image/png": "[encoded data removed]",
      "text/plain": [
       "<Figure size 432x288 with 1 Axes>"
      ]
     },
     "metadata": {
      "needs_background": "light"
     },
     "output_type": "display_data"
    },
    {
     "name": "stdout",
     "output_type": "stream",
     "text": [
      "------------------------------------------------------------------------------------------------------------------------\n",
      "AMT_INCOME_TOTAL\n"
     ]
    },
    {
     "data": {
      "image/png": "[encoded data removed]",
      "text/plain": [
       "<Figure size 432x288 with 1 Axes>"
      ]
     },
     "metadata": {
      "needs_background": "light"
     },
     "output_type": "display_data"
    },
    {
     "name": "stdout",
     "output_type": "stream",
     "text": [
      "------------------------------------------------------------------------------------------------------------------------\n",
      "AMT_CREDIT\n"
     ]
    },
    {
     "data": {
      "image/png": "[encoded data removed]",
      "text/plain": [
       "<Figure size 432x288 with 1 Axes>"
      ]
     },
     "metadata": {
      "needs_background": "light"
     },
     "output_type": "display_data"
    },
    {
     "name": "stdout",
     "output_type": "stream",
     "text": [
      "------------------------------------------------------------------------------------------------------------------------\n",
      "AMT_ANNUITY\n"
     ]
    },
    {
     "data": {
      "image/png": "[encoded data removed]",
      "text/plain": [
       "<Figure size 432x288 with 1 Axes>"
      ]
     },
     "metadata": {
      "needs_background": "light"
     },
     "output_type": "display_data"
    },
    {
     "name": "stdout",
     "output_type": "stream",
     "text": [
      "------------------------------------------------------------------------------------------------------------------------\n",
      "AMT_GOODS_PRICE\n"
     ]
    },
    {
     "data": {
      "image/png": "[encoded data removed]",
      "text/plain": [
       "<Figure size 432x288 with 1 Axes>"
      ]
     },
     "metadata": {
      "needs_background": "light"
     },
     "output_type": "display_data"
    },
    {
     "name": "stdout",
     "output_type": "stream",
     "text": [
      "------------------------------------------------------------------------------------------------------------------------\n",
      "REGION_POPULATION_RELATIVE\n"
     ]
    },
    {
     "data": {
      "image/png": "[encoded data removed]",
      "text/plain": [
       "<Figure size 432x288 with 1 Axes>"
      ]
     },
     "metadata": {
      "needs_background": "light"
     },
     "output_type": "display_data"
    },
    {
     "name": "stdout",
     "output_type": "stream",
     "text": [
      "------------------------------------------------------------------------------------------------------------------------\n",
      "DAYS_BIRTH\n"
     ]
    },
    {
     "data": {
      "image/png": "[encoded data removed]",
      "text/plain": [
       "<Figure size 432x288 with 1 Axes>"
      ]
     },
     "metadata": {
      "needs_background": "light"
     },
     "output_type": "display_data"
    },
    {
     "name": "stdout",
     "output_type": "stream",
     "text": [
      "------------------------------------------------------------------------------------------------------------------------\n",
      "DAYS_EMPLOYED\n"
     ]
    },
    {
     "data": {
      "image/png": "[encoded data removed]",
      "text/plain": [
       "<Figure size 432x288 with 1 Axes>"
      ]
     },
     "metadata": {
      "needs_background": "light"
     },
     "output_type": "display_data"
    },
    {
     "name": "stdout",
     "output_type": "stream",
     "text": [
      "------------------------------------------------------------------------------------------------------------------------\n",
      "DAYS_REGISTRATION\n"
     ]
    },
    {
     "data": {
      "image/png": "[encoded data removed]",
      "text/plain": [
       "<Figure size 432x288 with 1 Axes>"
      ]
     },
     "metadata": {
      "needs_background": "light"
     },
     "output_type": "display_data"
    },
    {
     "name": "stdout",
     "output_type": "stream",
     "text": [
      "------------------------------------------------------------------------------------------------------------------------\n",
      "DAYS_ID_PUBLISH\n"
     ]
    },
    {
     "data": {
      "image/png": "[encoded data removed]",
      "text/plain": [
       "<Figure size 432x288 with 1 Axes>"
      ]
     },
     "metadata": {
      "needs_background": "light"
     },
     "output_type": "display_data"
    },
    {
     "name": "stdout",
     "output_type": "stream",
     "text": [
      "------------------------------------------------------------------------------------------------------------------------\n",
      "FLAG_MOBIL\n"
     ]
    },
    {
     "data": {
      "image/png": "[encoded data removed]",
      "text/plain": [
       "<Figure size 432x288 with 1 Axes>"
      ]
     },
     "metadata": {
      "needs_background": "light"
     },
     "output_type": "display_data"
    },
    {
     "name": "stdout",
     "output_type": "stream",
     "text": [
      "------------------------------------------------------------------------------------------------------------------------\n",
      "FLAG_EMP_PHONE\n"
     ]
    },
    {
     "data": {
      "image/png": "[encoded data removed]",
      "text/plain": [
       "<Figure size 432x288 with 1 Axes>"
      ]
     },
     "metadata": {
      "needs_background": "light"
     },
     "output_type": "display_data"
    },
    {
     "name": "stdout",
     "output_type": "stream",
     "text": [
      "------------------------------------------------------------------------------------------------------------------------\n",
      "FLAG_WORK_PHONE\n"
     ]
    },
    {
     "data": {
      "image/png": "[encoded data removed]",
      "text/plain": [
       "<Figure size 432x288 with 1 Axes>"
      ]
     },
     "metadata": {
      "needs_background": "light"
     },
     "output_type": "display_data"
    },
    {
     "name": "stdout",
     "output_type": "stream",
     "text": [
      "------------------------------------------------------------------------------------------------------------------------\n",
      "FLAG_CONT_MOBILE\n"
     ]
    },
    {
     "data": {
      "image/png": "[encoded data removed]",
      "text/plain": [
       "<Figure size 432x288 with 1 Axes>"
      ]
     },
     "metadata": {
      "needs_background": "light"
     },
     "output_type": "display_data"
    },
    {
     "name": "stdout",
     "output_type": "stream",
     "text": [
      "------------------------------------------------------------------------------------------------------------------------\n",
      "FLAG_PHONE\n"
     ]
    },
    {
     "data": {
      "image/png": "[encoded data removed]",
      "text/plain": [
       "<Figure size 432x288 with 1 Axes>"
      ]
     },
     "metadata": {
      "needs_background": "light"
     },
     "output_type": "display_data"
    },
    {
     "name": "stdout",
     "output_type": "stream",
     "text": [
      "------------------------------------------------------------------------------------------------------------------------\n",
      "FLAG_EMAIL\n"
     ]
    },
    {
     "data": {
      "image/png": "[encoded data removed]",
      "text/plain": [
       "<Figure size 432x288 with 1 Axes>"
      ]
     },
     "metadata": {
      "needs_background": "light"
     },
     "output_type": "display_data"
    },
    {
     "name": "stdout",
     "output_type": "stream",
     "text": [
      "------------------------------------------------------------------------------------------------------------------------\n",
      "CNT_FAM_MEMBERS\n"
     ]
    },
    {
     "data": {
      "image/png": "[encoded data removed]",
      "text/plain": [
       "<Figure size 432x288 with 1 Axes>"
      ]
     },
     "metadata": {
      "needs_background": "light"
     },
     "output_type": "display_data"
    },
    {
     "name": "stdout",
     "output_type": "stream",
     "text": [
      "------------------------------------------------------------------------------------------------------------------------\n",
      "REGION_RATING_CLIENT\n"
     ]
    },
    {
     "data": {
      "image/png": "[encoded data removed]",
      "text/plain": [
       "<Figure size 432x288 with 1 Axes>"
      ]
     },
     "metadata": {
      "needs_background": "light"
     },
     "output_type": "display_data"
    },
    {
     "name": "stdout",
     "output_type": "stream",
     "text": [
      "------------------------------------------------------------------------------------------------------------------------\n",
      "REGION_RATING_CLIENT_W_CITY\n"
     ]
    },
    {
     "data": {
      "image/png": "[encoded data removed]",
      "text/plain": [
       "<Figure size 432x288 with 1 Axes>"
      ]
     },
     "metadata": {
      "needs_background": "light"
     },
     "output_type": "display_data"
    },
    {
     "name": "stdout",
     "output_type": "stream",
     "text": [
      "------------------------------------------------------------------------------------------------------------------------\n",
      "HOUR_APPR_PROCESS_START\n"
     ]
    },
    {
     "data": {
      "image/png": "[encoded data removed]",
      "text/plain": [
       "<Figure size 432x288 with 1 Axes>"
      ]
     },
     "metadata": {
      "needs_background": "light"
     },
     "output_type": "display_data"
    },
    {
     "name": "stdout",
     "output_type": "stream",
     "text": [
      "------------------------------------------------------------------------------------------------------------------------\n",
      "REG_REGION_NOT_LIVE_REGION\n"
     ]
    },
    {
     "data": {
      "image/png": "[encoded data removed]",
      "text/plain": [
       "<Figure size 432x288 with 1 Axes>"
      ]
     },
     "metadata": {
      "needs_background": "light"
     },
     "output_type": "display_data"
    },
    {
     "name": "stdout",
     "output_type": "stream",
     "text": [
      "------------------------------------------------------------------------------------------------------------------------\n",
      "REG_REGION_NOT_WORK_REGION\n"
     ]
    },
    {
     "data": {
      "image/png": "[encoded data removed]",
      "text/plain": [
       "<Figure size 432x288 with 1 Axes>"
      ]
     },
     "metadata": {
      "needs_background": "light"
     },
     "output_type": "display_data"
    },
    {
     "name": "stdout",
     "output_type": "stream",
     "text": [
      "------------------------------------------------------------------------------------------------------------------------\n",
      "LIVE_REGION_NOT_WORK_REGION\n"
     ]
    },
    {
     "data": {
      "image/png": "[encoded data removed]",
      "text/plain": [
       "<Figure size 432x288 with 1 Axes>"
      ]
     },
     "metadata": {
      "needs_background": "light"
     },
     "output_type": "display_data"
    },
    {
     "name": "stdout",
     "output_type": "stream",
     "text": [
      "------------------------------------------------------------------------------------------------------------------------\n",
      "REG_CITY_NOT_LIVE_CITY\n"
     ]
    },
    {
     "data": {
      "image/png": "[encoded data removed]",
      "text/plain": [
       "<Figure size 432x288 with 1 Axes>"
      ]
     },
     "metadata": {
      "needs_background": "light"
     },
     "output_type": "display_data"
    },
    {
     "name": "stdout",
     "output_type": "stream",
     "text": [
      "------------------------------------------------------------------------------------------------------------------------\n",
      "REG_CITY_NOT_WORK_CITY\n"
     ]
    },
    {
     "data": {
      "image/png": "[encoded data removed]",
      "text/plain": [
       "<Figure size 432x288 with 1 Axes>"
      ]
     },
     "metadata": {
      "needs_background": "light"
     },
     "output_type": "display_data"
    },
    {
     "name": "stdout",
     "output_type": "stream",
     "text": [
      "------------------------------------------------------------------------------------------------------------------------\n",
      "LIVE_CITY_NOT_WORK_CITY\n"
     ]
    },
    {
     "data": {
      "image/png": "[encoded data removed]",
      "text/plain": [
       "<Figure size 432x288 with 1 Axes>"
      ]
     },
     "metadata": {
      "needs_background": "light"
     },
     "output_type": "display_data"
    },
    {
     "name": "stdout",
     "output_type": "stream",
     "text": [
      "------------------------------------------------------------------------------------------------------------------------\n",
      "EXT_SOURCE_2\n"
     ]
    },
    {
     "data": {
      "image/png": "[encoded data removed]",
      "text/plain": [
       "<Figure size 432x288 with 1 Axes>"
      ]
     },
     "metadata": {
      "needs_background": "light"
     },
     "output_type": "display_data"
    },
    {
     "name": "stdout",
     "output_type": "stream",
     "text": [
      "------------------------------------------------------------------------------------------------------------------------\n",
      "EXT_SOURCE_3\n"
     ]
    },
    {
     "data": {
      "image/png": "[encoded data removed]",
      "text/plain": [
       "<Figure size 432x288 with 1 Axes>"
      ]
     },
     "metadata": {
      "needs_background": "light"
     },
     "output_type": "display_data"
    },
    {
     "name": "stdout",
     "output_type": "stream",
     "text": [
      "------------------------------------------------------------------------------------------------------------------------\n",
      "OBS_30_CNT_SOCIAL_CIRCLE\n"
     ]
    },
    {
     "data": {
      "image/png": "[encoded data removed]",
      "text/plain": [
       "<Figure size 432x288 with 1 Axes>"
      ]
     },
     "metadata": {
      "needs_background": "light"
     },
     "output_type": "display_data"
    },
    {
     "name": "stdout",
     "output_type": "stream",
     "text": [
      "------------------------------------------------------------------------------------------------------------------------\n",
      "DEF_30_CNT_SOCIAL_CIRCLE\n"
     ]
    },
    {
     "data": {
      "image/png": "[encoded data removed]",
      "text/plain": [
       "<Figure size 432x288 with 1 Axes>"
      ]
     },
     "metadata": {
      "needs_background": "light"
     },
     "output_type": "display_data"
    },
    {
     "name": "stdout",
     "output_type": "stream",
     "text": [
      "------------------------------------------------------------------------------------------------------------------------\n",
      "OBS_60_CNT_SOCIAL_CIRCLE\n"
     ]
    },
    {
     "data": {
      "image/png": "[encoded data removed]",
      "text/plain": [
       "<Figure size 432x288 with 1 Axes>"
      ]
     },
     "metadata": {
      "needs_background": "light"
     },
     "output_type": "display_data"
    },
    {
     "name": "stdout",
     "output_type": "stream",
     "text": [
      "------------------------------------------------------------------------------------------------------------------------\n",
      "DEF_60_CNT_SOCIAL_CIRCLE\n"
     ]
    },
    {
     "data": {
      "image/png": "[encoded data removed]",
      "text/plain": [
       "<Figure size 432x288 with 1 Axes>"
      ]
     },
     "metadata": {
      "needs_background": "light"
     },
     "output_type": "display_data"
    },
    {
     "name": "stdout",
     "output_type": "stream",
     "text": [
      "------------------------------------------------------------------------------------------------------------------------\n",
      "DAYS_LAST_PHONE_CHANGE\n"
     ]
    },
    {
     "data": {
      "image/png": "[encoded data removed]",
      "text/plain": [
       "<Figure size 432x288 with 1 Axes>"
      ]
     },
     "metadata": {
      "needs_background": "light"
     },
     "output_type": "display_data"
    },
    {
     "name": "stdout",
     "output_type": "stream",
     "text": [
      "------------------------------------------------------------------------------------------------------------------------\n",
      "FLAG_DOCUMENT_2\n"
     ]
    },
    {
     "data": {
      "image/png": "[encoded data removed]",
      "text/plain": [
       "<Figure size 432x288 with 1 Axes>"
      ]
     },
     "metadata": {
      "needs_background": "light"
     },
     "output_type": "display_data"
    },
    {
     "name": "stdout",
     "output_type": "stream",
     "text": [
      "------------------------------------------------------------------------------------------------------------------------\n",
      "FLAG_DOCUMENT_3\n"
     ]
    },
    {
     "data": {
      "image/png": "[encoded data removed]",
      "text/plain": [
       "<Figure size 432x288 with 1 Axes>"
      ]
     },
     "metadata": {
      "needs_background": "light"
     },
     "output_type": "display_data"
    },
    {
     "name": "stdout",
     "output_type": "stream",
     "text": [
      "------------------------------------------------------------------------------------------------------------------------\n",
      "FLAG_DOCUMENT_4\n"
     ]
    },
    {
     "data": {
      "image/png": "[encoded data removed]",
      "text/plain": [
       "<Figure size 432x288 with 1 Axes>"
      ]
     },
     "metadata": {
      "needs_background": "light"
     },
     "output_type": "display_data"
    },
    {
     "name": "stdout",
     "output_type": "stream",
     "text": [
      "------------------------------------------------------------------------------------------------------------------------\n",
      "FLAG_DOCUMENT_5\n"
     ]
    },
    {
     "data": {
      "image/png": "[encoded data removed]",
      "text/plain": [
       "<Figure size 432x288 with 1 Axes>"
      ]
     },
     "metadata": {
      "needs_background": "light"
     },
     "output_type": "display_data"
    },
    {
     "name": "stdout",
     "output_type": "stream",
     "text": [
      "------------------------------------------------------------------------------------------------------------------------\n",
      "FLAG_DOCUMENT_6\n"
     ]
    },
    {
     "data": {
      "image/png": "[encoded data removed]",
      "text/plain": [
       "<Figure size 432x288 with 1 Axes>"
      ]
     },
     "metadata": {
      "needs_background": "light"
     },
     "output_type": "display_data"
    },
    {
     "name": "stdout",
     "output_type": "stream",
     "text": [
      "------------------------------------------------------------------------------------------------------------------------\n",
      "FLAG_DOCUMENT_7\n"
     ]
    },
    {
     "data": {
      "image/png": "[encoded data removed]",
      "text/plain": [
       "<Figure size 432x288 with 1 Axes>"
      ]
     },
     "metadata": {
      "needs_background": "light"
     },
     "output_type": "display_data"
    },
    {
     "name": "stdout",
     "output_type": "stream",
     "text": [
      "------------------------------------------------------------------------------------------------------------------------\n",
      "FLAG_DOCUMENT_8\n"
     ]
    },
    {
     "data": {
      "image/png": "[encoded data removed]",
      "text/plain": [
       "<Figure size 432x288 with 1 Axes>"
      ]
     },
     "metadata": {
      "needs_background": "light"
     },
     "output_type": "display_data"
    },
    {
     "name": "stdout",
     "output_type": "stream",
     "text": [
      "------------------------------------------------------------------------------------------------------------------------\n",
      "FLAG_DOCUMENT_9\n"
     ]
    },
    {
     "data": {
      "image/png": "[encoded data removed]",
      "text/plain": [
       "<Figure size 432x288 with 1 Axes>"
      ]
     },
     "metadata": {
      "needs_background": "light"
     },
     "output_type": "display_data"
    },
    {
     "name": "stdout",
     "output_type": "stream",
     "text": [
      "------------------------------------------------------------------------------------------------------------------------\n",
      "FLAG_DOCUMENT_10\n"
     ]
    },
    {
     "data": {
      "image/png": "[encoded data removed]",
      "text/plain": [
       "<Figure size 432x288 with 1 Axes>"
      ]
     },
     "metadata": {
      "needs_background": "light"
     },
     "output_type": "display_data"
    },
    {
     "name": "stdout",
     "output_type": "stream",
     "text": [
      "------------------------------------------------------------------------------------------------------------------------\n",
      "FLAG_DOCUMENT_11\n"
     ]
    },
    {
     "data": {
      "image/png": "[encoded data removed]",
      "text/plain": [
       "<Figure size 432x288 with 1 Axes>"
      ]
     },
     "metadata": {
      "needs_background": "light"
     },
     "output_type": "display_data"
    },
    {
     "name": "stdout",
     "output_type": "stream",
     "text": [
      "------------------------------------------------------------------------------------------------------------------------\n",
      "FLAG_DOCUMENT_12\n"
     ]
    },
    {
     "data": {
      "image/png": "[encoded data removed]",
      "text/plain": [
       "<Figure size 432x288 with 1 Axes>"
      ]
     },
     "metadata": {
      "needs_background": "light"
     },
     "output_type": "display_data"
    },
    {
     "name": "stdout",
     "output_type": "stream",
     "text": [
      "------------------------------------------------------------------------------------------------------------------------\n",
      "FLAG_DOCUMENT_13\n"
     ]
    },
    {
     "data": {
      "image/png": "[encoded data removed]",
      "text/plain": [
       "<Figure size 432x288 with 1 Axes>"
      ]
     },
     "metadata": {
      "needs_background": "light"
     },
     "output_type": "display_data"
    },
    {
     "name": "stdout",
     "output_type": "stream",
     "text": [
      "------------------------------------------------------------------------------------------------------------------------\n",
      "FLAG_DOCUMENT_14\n"
     ]
    },
    {
     "data": {
      "image/png": "[encoded data removed]",
      "text/plain": [
       "<Figure size 432x288 with 1 Axes>"
      ]
     },
     "metadata": {
      "needs_background": "light"
     },
     "output_type": "display_data"
    },
    {
     "name": "stdout",
     "output_type": "stream",
     "text": [
      "------------------------------------------------------------------------------------------------------------------------\n",
      "FLAG_DOCUMENT_15\n"
     ]
    },
    {
     "data": {
      "image/png": "[encoded data removed]",
      "text/plain": [
       "<Figure size 432x288 with 1 Axes>"
      ]
     },
     "metadata": {
      "needs_background": "light"
     },
     "output_type": "display_data"
    },
    {
     "name": "stdout",
     "output_type": "stream",
     "text": [
      "------------------------------------------------------------------------------------------------------------------------\n",
      "FLAG_DOCUMENT_16\n"
     ]
    },
    {
     "data": {
      "image/png": "[encoded data removed]",
      "text/plain": [
       "<Figure size 432x288 with 1 Axes>"
      ]
     },
     "metadata": {
      "needs_background": "light"
     },
     "output_type": "display_data"
    },
    {
     "name": "stdout",
     "output_type": "stream",
     "text": [
      "------------------------------------------------------------------------------------------------------------------------\n",
      "FLAG_DOCUMENT_17\n"
     ]
    },
    {
     "data": {
      "image/png": "[encoded data removed]",
      "text/plain": [
       "<Figure size 432x288 with 1 Axes>"
      ]
     },
     "metadata": {
      "needs_background": "light"
     },
     "output_type": "display_data"
    },
    {
     "name": "stdout",
     "output_type": "stream",
     "text": [
      "------------------------------------------------------------------------------------------------------------------------\n",
      "FLAG_DOCUMENT_18\n"
     ]
    },
    {
     "data": {
      "image/png": "[encoded data removed]",
      "text/plain": [
       "<Figure size 432x288 with 1 Axes>"
      ]
     },
     "metadata": {
      "needs_background": "light"
     },
     "output_type": "display_data"
    },
    {
     "name": "stdout",
     "output_type": "stream",
     "text": [
      "------------------------------------------------------------------------------------------------------------------------\n",
      "FLAG_DOCUMENT_19\n"
     ]
    },
    {
     "data": {
      "image/png": "[encoded data removed]",
      "text/plain": [
       "<Figure size 432x288 with 1 Axes>"
      ]
     },
     "metadata": {
      "needs_background": "light"
     },
     "output_type": "display_data"
    },
    {
     "name": "stdout",
     "output_type": "stream",
     "text": [
      "------------------------------------------------------------------------------------------------------------------------\n",
      "FLAG_DOCUMENT_20\n"
     ]
    },
    {
     "data": {
      "image/png": "[encoded data removed]",
      "text/plain": [
       "<Figure size 432x288 with 1 Axes>"
      ]
     },
     "metadata": {
      "needs_background": "light"
     },
     "output_type": "display_data"
    },
    {
     "name": "stdout",
     "output_type": "stream",
     "text": [
      "------------------------------------------------------------------------------------------------------------------------\n",
      "FLAG_DOCUMENT_21\n"
     ]
    },
    {
     "data": {
      "image/png": "[encoded data removed]",
      "text/plain": [
       "<Figure size 432x288 with 1 Axes>"
      ]
     },
     "metadata": {
      "needs_background": "light"
     },
     "output_type": "display_data"
    },
    {
     "name": "stdout",
     "output_type": "stream",
     "text": [
      "------------------------------------------------------------------------------------------------------------------------\n",
      "AMT_REQ_CREDIT_BUREAU_HOUR\n"
     ]
    },
    {
     "data": {
      "image/png": "[encoded data removed]",
      "text/plain": [
       "<Figure size 432x288 with 1 Axes>"
      ]
     },
     "metadata": {
      "needs_background": "light"
     },
     "output_type": "display_data"
    },
    {
     "name": "stdout",
     "output_type": "stream",
     "text": [
      "------------------------------------------------------------------------------------------------------------------------\n",
      "AMT_REQ_CREDIT_BUREAU_DAY\n"
     ]
    },
    {
     "data": {
      "image/png": "[encoded data removed]",
      "text/plain": [
       "<Figure size 432x288 with 1 Axes>"
      ]
     },
     "metadata": {
      "needs_background": "light"
     },
     "output_type": "display_data"
    },
    {
     "name": "stdout",
     "output_type": "stream",
     "text": [
      "------------------------------------------------------------------------------------------------------------------------\n",
      "AMT_REQ_CREDIT_BUREAU_WEEK\n"
     ]
    },
    {
     "data": {
      "image/png": "[encoded data removed]",
      "text/plain": [
       "<Figure size 432x288 with 1 Axes>"
      ]
     },
     "metadata": {
      "needs_background": "light"
     },
     "output_type": "display_data"
    },
    {
     "name": "stdout",
     "output_type": "stream",
     "text": [
      "------------------------------------------------------------------------------------------------------------------------\n",
      "AMT_REQ_CREDIT_BUREAU_MON\n"
     ]
    },
    {
     "data": {
      "image/png": "[encoded data removed]",
      "text/plain": [
       "<Figure size 432x288 with 1 Axes>"
      ]
     },
     "metadata": {
      "needs_background": "light"
     },
     "output_type": "display_data"
    },
    {
     "name": "stdout",
     "output_type": "stream",
     "text": [
      "------------------------------------------------------------------------------------------------------------------------\n",
      "AMT_REQ_CREDIT_BUREAU_QRT\n"
     ]
    },
    {
     "data": {
      "image/png": "[encoded data removed]",
      "text/plain": [
       "<Figure size 432x288 with 1 Axes>"
      ]
     },
     "metadata": {
      "needs_background": "light"
     },
     "output_type": "display_data"
    },
    {
     "name": "stdout",
     "output_type": "stream",
     "text": [
      "------------------------------------------------------------------------------------------------------------------------\n",
      "AMT_REQ_CREDIT_BUREAU_YEAR\n"
     ]
    },
    {
     "data": {
      "image/png": "[encoded data removed]",
      "text/plain": [
       "<Figure size 432x288 with 1 Axes>"
      ]
     },
     "metadata": {
      "needs_background": "light"
     },
     "output_type": "display_data"
    },
    {
     "name": "stdout",
     "output_type": "stream",
     "text": [
      "------------------------------------------------------------------------------------------------------------------------\n"
     ]
    }
   ],
   "source": [
    "for i in numerical_columns:\n",
    "    print(i)\n",
    "    plt.boxplot(application_data[i])\n",
    "    plt.show()\n",
    "    print('-'*120)"
   ]
  },
  {
   "cell_type": "code",
   "execution_count": 16,
   "metadata": {},
   "outputs": [],
   "source": [
    "#deleting outliers\n",
    "application_data=application_data.drop(application_data.loc[application_data['AMT_REQ_CREDIT_BUREAU_QRT'] > 50].index)\n",
    "application_data=application_data.drop(application_data.loc[application_data['AMT_REQ_CREDIT_BUREAU_MON'] > 5].index)\n",
    "application_data=application_data.drop(application_data.loc[application_data['DAYS_REGISTRATION'] > 50].index)\n",
    "application_data=application_data.drop(application_data.loc[application_data['DAYS_EMPLOYED'] > 40].index)\n",
    "application_data=application_data.drop(application_data.loc[application_data['OBS_30_CNT_SOCIAL_CIRCLE'] > 40].index)\n",
    "application_data=application_data.drop(application_data.loc[application_data['AMT_INCOME_TOTAL'] > 110000000].index)\n",
    "application_data=application_data.drop(application_data.loc[application_data['DEF_30_CNT_SOCIAL_CIRCLE'] > 30].index)\n",
    "application_data=application_data.drop(application_data.loc[application_data['AMT_CREDIT'] > 2000000].index)"
   ]
  },
  {
   "cell_type": "code",
   "execution_count": 17,
   "metadata": {},
   "outputs": [],
   "source": [
    "#removing ID column\n",
    "application_data.drop(\"SK_ID_CURR\", axis=1, inplace=True)"
   ]
  },
  {
   "cell_type": "markdown",
   "metadata": {},
   "source": [
    "# Feature Selection"
   ]
  },
  {
   "cell_type": "code",
   "execution_count": 18,
   "metadata": {},
   "outputs": [],
   "source": [
    "numericalData = application_data.select_dtypes(exclude=[\"object\",\"category\"]).copy()\n",
    "X_numerical = numericalData.drop([\"TARGET\"], axis= \"columns\")\n",
    "y_numerical = numericalData.TARGET"
   ]
  },
  {
   "cell_type": "code",
   "execution_count": 19,
   "metadata": {},
   "outputs": [
    {
     "data": {
      "text/html": [
       "<div>\n",
       "<style scoped>\n",
       "    .dataframe tbody tr th:only-of-type {\n",
       "        vertical-align: middle;\n",
       "    }\n",
       "\n",
       "    .dataframe tbody tr th {\n",
       "        vertical-align: top;\n",
       "    }\n",
       "\n",
       "    .dataframe thead th {\n",
       "        text-align: right;\n",
       "    }\n",
       "</style>\n",
       "<table border=\"1\" class=\"dataframe\">\n",
       "  <thead>\n",
       "    <tr style=\"text-align: right;\">\n",
       "      <th></th>\n",
       "      <th>Pearson Corr.</th>\n",
       "      <th>p-value</th>\n",
       "    </tr>\n",
       "  </thead>\n",
       "  <tbody>\n",
       "    <tr>\n",
       "      <th>CNT_CHILDREN</th>\n",
       "      <td>0.0073</td>\n",
       "      <td>0.0003</td>\n",
       "    </tr>\n",
       "    <tr>\n",
       "      <th>AMT_INCOME_TOTAL</th>\n",
       "      <td>-0.0282</td>\n",
       "      <td>0.0000</td>\n",
       "    </tr>\n",
       "    <tr>\n",
       "      <th>AMT_CREDIT</th>\n",
       "      <td>-0.0376</td>\n",
       "      <td>0.0000</td>\n",
       "    </tr>\n",
       "    <tr>\n",
       "      <th>AMT_ANNUITY</th>\n",
       "      <td>-0.0167</td>\n",
       "      <td>0.0000</td>\n",
       "    </tr>\n",
       "    <tr>\n",
       "      <th>AMT_GOODS_PRICE</th>\n",
       "      <td>-0.0478</td>\n",
       "      <td>0.0000</td>\n",
       "    </tr>\n",
       "    <tr>\n",
       "      <th>REGION_POPULATION_RELATIVE</th>\n",
       "      <td>-0.0393</td>\n",
       "      <td>0.0000</td>\n",
       "    </tr>\n",
       "    <tr>\n",
       "      <th>DAYS_BIRTH</th>\n",
       "      <td>-0.0652</td>\n",
       "      <td>0.0000</td>\n",
       "    </tr>\n",
       "    <tr>\n",
       "      <th>DAYS_EMPLOYED</th>\n",
       "      <td>-0.0745</td>\n",
       "      <td>0.0000</td>\n",
       "    </tr>\n",
       "    <tr>\n",
       "      <th>DAYS_REGISTRATION</th>\n",
       "      <td>-0.0357</td>\n",
       "      <td>0.0000</td>\n",
       "    </tr>\n",
       "    <tr>\n",
       "      <th>DAYS_ID_PUBLISH</th>\n",
       "      <td>-0.0395</td>\n",
       "      <td>0.0000</td>\n",
       "    </tr>\n",
       "    <tr>\n",
       "      <th>FLAG_MOBIL</th>\n",
       "      <td>0.0006</td>\n",
       "      <td>0.7572</td>\n",
       "    </tr>\n",
       "    <tr>\n",
       "      <th>FLAG_EMP_PHONE</th>\n",
       "      <td>-0.0001</td>\n",
       "      <td>0.9657</td>\n",
       "    </tr>\n",
       "    <tr>\n",
       "      <th>FLAG_WORK_PHONE</th>\n",
       "      <td>0.0196</td>\n",
       "      <td>0.0000</td>\n",
       "    </tr>\n",
       "    <tr>\n",
       "      <th>FLAG_CONT_MOBILE</th>\n",
       "      <td>0.0010</td>\n",
       "      <td>0.6083</td>\n",
       "    </tr>\n",
       "    <tr>\n",
       "      <th>FLAG_PHONE</th>\n",
       "      <td>-0.0236</td>\n",
       "      <td>0.0000</td>\n",
       "    </tr>\n",
       "    <tr>\n",
       "      <th>FLAG_EMAIL</th>\n",
       "      <td>-0.0061</td>\n",
       "      <td>0.0022</td>\n",
       "    </tr>\n",
       "    <tr>\n",
       "      <th>CNT_FAM_MEMBERS</th>\n",
       "      <td>-0.0022</td>\n",
       "      <td>0.2741</td>\n",
       "    </tr>\n",
       "    <tr>\n",
       "      <th>REGION_RATING_CLIENT</th>\n",
       "      <td>0.0639</td>\n",
       "      <td>0.0000</td>\n",
       "    </tr>\n",
       "    <tr>\n",
       "      <th>REGION_RATING_CLIENT_W_CITY</th>\n",
       "      <td>0.0662</td>\n",
       "      <td>0.0000</td>\n",
       "    </tr>\n",
       "    <tr>\n",
       "      <th>HOUR_APPR_PROCESS_START</th>\n",
       "      <td>-0.0306</td>\n",
       "      <td>0.0000</td>\n",
       "    </tr>\n",
       "    <tr>\n",
       "      <th>REG_REGION_NOT_LIVE_REGION</th>\n",
       "      <td>0.0041</td>\n",
       "      <td>0.0386</td>\n",
       "    </tr>\n",
       "    <tr>\n",
       "      <th>REG_REGION_NOT_WORK_REGION</th>\n",
       "      <td>0.0025</td>\n",
       "      <td>0.2197</td>\n",
       "    </tr>\n",
       "    <tr>\n",
       "      <th>LIVE_REGION_NOT_WORK_REGION</th>\n",
       "      <td>-0.0016</td>\n",
       "      <td>0.4338</td>\n",
       "    </tr>\n",
       "    <tr>\n",
       "      <th>REG_CITY_NOT_LIVE_CITY</th>\n",
       "      <td>0.0419</td>\n",
       "      <td>0.0000</td>\n",
       "    </tr>\n",
       "    <tr>\n",
       "      <th>REG_CITY_NOT_WORK_CITY</th>\n",
       "      <td>0.0433</td>\n",
       "      <td>0.0000</td>\n",
       "    </tr>\n",
       "    <tr>\n",
       "      <th>LIVE_CITY_NOT_WORK_CITY</th>\n",
       "      <td>0.0245</td>\n",
       "      <td>0.0000</td>\n",
       "    </tr>\n",
       "    <tr>\n",
       "      <th>EXT_SOURCE_2</th>\n",
       "      <td>-0.1700</td>\n",
       "      <td>0.0000</td>\n",
       "    </tr>\n",
       "    <tr>\n",
       "      <th>EXT_SOURCE_3</th>\n",
       "      <td>-0.1560</td>\n",
       "      <td>0.0000</td>\n",
       "    </tr>\n",
       "    <tr>\n",
       "      <th>OBS_30_CNT_SOCIAL_CIRCLE</th>\n",
       "      <td>0.0123</td>\n",
       "      <td>0.0000</td>\n",
       "    </tr>\n",
       "    <tr>\n",
       "      <th>DEF_30_CNT_SOCIAL_CIRCLE</th>\n",
       "      <td>0.0365</td>\n",
       "      <td>0.0000</td>\n",
       "    </tr>\n",
       "    <tr>\n",
       "      <th>OBS_60_CNT_SOCIAL_CIRCLE</th>\n",
       "      <td>0.0123</td>\n",
       "      <td>0.0000</td>\n",
       "    </tr>\n",
       "    <tr>\n",
       "      <th>DEF_60_CNT_SOCIAL_CIRCLE</th>\n",
       "      <td>0.0346</td>\n",
       "      <td>0.0000</td>\n",
       "    </tr>\n",
       "    <tr>\n",
       "      <th>DAYS_LAST_PHONE_CHANGE</th>\n",
       "      <td>-0.0601</td>\n",
       "      <td>0.0000</td>\n",
       "    </tr>\n",
       "    <tr>\n",
       "      <th>FLAG_DOCUMENT_2</th>\n",
       "      <td>0.0040</td>\n",
       "      <td>0.0457</td>\n",
       "    </tr>\n",
       "    <tr>\n",
       "      <th>FLAG_DOCUMENT_3</th>\n",
       "      <td>0.0412</td>\n",
       "      <td>0.0000</td>\n",
       "    </tr>\n",
       "    <tr>\n",
       "      <th>FLAG_DOCUMENT_4</th>\n",
       "      <td>-0.0026</td>\n",
       "      <td>0.1896</td>\n",
       "    </tr>\n",
       "    <tr>\n",
       "      <th>FLAG_DOCUMENT_5</th>\n",
       "      <td>-0.0005</td>\n",
       "      <td>0.8008</td>\n",
       "    </tr>\n",
       "    <tr>\n",
       "      <th>FLAG_DOCUMENT_6</th>\n",
       "      <td>-0.0080</td>\n",
       "      <td>0.0001</td>\n",
       "    </tr>\n",
       "    <tr>\n",
       "      <th>FLAG_DOCUMENT_7</th>\n",
       "      <td>-0.0014</td>\n",
       "      <td>0.4947</td>\n",
       "    </tr>\n",
       "    <tr>\n",
       "      <th>FLAG_DOCUMENT_8</th>\n",
       "      <td>-0.0139</td>\n",
       "      <td>0.0000</td>\n",
       "    </tr>\n",
       "    <tr>\n",
       "      <th>FLAG_DOCUMENT_9</th>\n",
       "      <td>-0.0053</td>\n",
       "      <td>0.0081</td>\n",
       "    </tr>\n",
       "    <tr>\n",
       "      <th>FLAG_DOCUMENT_10</th>\n",
       "      <td>-0.0015</td>\n",
       "      <td>0.4489</td>\n",
       "    </tr>\n",
       "    <tr>\n",
       "      <th>FLAG_DOCUMENT_11</th>\n",
       "      <td>-0.0057</td>\n",
       "      <td>0.0043</td>\n",
       "    </tr>\n",
       "    <tr>\n",
       "      <th>FLAG_DOCUMENT_12</th>\n",
       "      <td>-0.0009</td>\n",
       "      <td>0.6619</td>\n",
       "    </tr>\n",
       "    <tr>\n",
       "      <th>FLAG_DOCUMENT_13</th>\n",
       "      <td>-0.0125</td>\n",
       "      <td>0.0000</td>\n",
       "    </tr>\n",
       "    <tr>\n",
       "      <th>FLAG_DOCUMENT_14</th>\n",
       "      <td>-0.0115</td>\n",
       "      <td>0.0000</td>\n",
       "    </tr>\n",
       "    <tr>\n",
       "      <th>FLAG_DOCUMENT_15</th>\n",
       "      <td>-0.0070</td>\n",
       "      <td>0.0005</td>\n",
       "    </tr>\n",
       "    <tr>\n",
       "      <th>FLAG_DOCUMENT_16</th>\n",
       "      <td>-0.0138</td>\n",
       "      <td>0.0000</td>\n",
       "    </tr>\n",
       "    <tr>\n",
       "      <th>FLAG_DOCUMENT_17</th>\n",
       "      <td>-0.0036</td>\n",
       "      <td>0.0699</td>\n",
       "    </tr>\n",
       "    <tr>\n",
       "      <th>FLAG_DOCUMENT_18</th>\n",
       "      <td>-0.0100</td>\n",
       "      <td>0.0000</td>\n",
       "    </tr>\n",
       "    <tr>\n",
       "      <th>FLAG_DOCUMENT_19</th>\n",
       "      <td>-0.0021</td>\n",
       "      <td>0.2974</td>\n",
       "    </tr>\n",
       "    <tr>\n",
       "      <th>FLAG_DOCUMENT_20</th>\n",
       "      <td>0.0007</td>\n",
       "      <td>0.7095</td>\n",
       "    </tr>\n",
       "    <tr>\n",
       "      <th>FLAG_DOCUMENT_21</th>\n",
       "      <td>0.0036</td>\n",
       "      <td>0.0735</td>\n",
       "    </tr>\n",
       "    <tr>\n",
       "      <th>AMT_REQ_CREDIT_BUREAU_HOUR</th>\n",
       "      <td>0.0002</td>\n",
       "      <td>0.9086</td>\n",
       "    </tr>\n",
       "    <tr>\n",
       "      <th>AMT_REQ_CREDIT_BUREAU_DAY</th>\n",
       "      <td>-0.0001</td>\n",
       "      <td>0.9519</td>\n",
       "    </tr>\n",
       "    <tr>\n",
       "      <th>AMT_REQ_CREDIT_BUREAU_WEEK</th>\n",
       "      <td>-0.0025</td>\n",
       "      <td>0.2056</td>\n",
       "    </tr>\n",
       "    <tr>\n",
       "      <th>AMT_REQ_CREDIT_BUREAU_MON</th>\n",
       "      <td>-0.0144</td>\n",
       "      <td>0.0000</td>\n",
       "    </tr>\n",
       "    <tr>\n",
       "      <th>AMT_REQ_CREDIT_BUREAU_QRT</th>\n",
       "      <td>-0.0061</td>\n",
       "      <td>0.0024</td>\n",
       "    </tr>\n",
       "    <tr>\n",
       "      <th>AMT_REQ_CREDIT_BUREAU_YEAR</th>\n",
       "      <td>0.0157</td>\n",
       "      <td>0.0000</td>\n",
       "    </tr>\n",
       "  </tbody>\n",
       "</table>\n",
       "</div>"
      ],
      "text/plain": [
       "                             Pearson Corr.  p-value\n",
       "CNT_CHILDREN                        0.0073   0.0003\n",
       "AMT_INCOME_TOTAL                   -0.0282   0.0000\n",
       "AMT_CREDIT                         -0.0376   0.0000\n",
       "AMT_ANNUITY                        -0.0167   0.0000\n",
       "AMT_GOODS_PRICE                    -0.0478   0.0000\n",
       "REGION_POPULATION_RELATIVE         -0.0393   0.0000\n",
       "DAYS_BIRTH                         -0.0652   0.0000\n",
       "DAYS_EMPLOYED                      -0.0745   0.0000\n",
       "DAYS_REGISTRATION                  -0.0357   0.0000\n",
       "DAYS_ID_PUBLISH                    -0.0395   0.0000\n",
       "FLAG_MOBIL                          0.0006   0.7572\n",
       "FLAG_EMP_PHONE                     -0.0001   0.9657\n",
       "FLAG_WORK_PHONE                     0.0196   0.0000\n",
       "FLAG_CONT_MOBILE                    0.0010   0.6083\n",
       "FLAG_PHONE                         -0.0236   0.0000\n",
       "FLAG_EMAIL                         -0.0061   0.0022\n",
       "CNT_FAM_MEMBERS                    -0.0022   0.2741\n",
       "REGION_RATING_CLIENT                0.0639   0.0000\n",
       "REGION_RATING_CLIENT_W_CITY         0.0662   0.0000\n",
       "HOUR_APPR_PROCESS_START            -0.0306   0.0000\n",
       "REG_REGION_NOT_LIVE_REGION          0.0041   0.0386\n",
       "REG_REGION_NOT_WORK_REGION          0.0025   0.2197\n",
       "LIVE_REGION_NOT_WORK_REGION        -0.0016   0.4338\n",
       "REG_CITY_NOT_LIVE_CITY              0.0419   0.0000\n",
       "REG_CITY_NOT_WORK_CITY              0.0433   0.0000\n",
       "LIVE_CITY_NOT_WORK_CITY             0.0245   0.0000\n",
       "EXT_SOURCE_2                       -0.1700   0.0000\n",
       "EXT_SOURCE_3                       -0.1560   0.0000\n",
       "OBS_30_CNT_SOCIAL_CIRCLE            0.0123   0.0000\n",
       "DEF_30_CNT_SOCIAL_CIRCLE            0.0365   0.0000\n",
       "OBS_60_CNT_SOCIAL_CIRCLE            0.0123   0.0000\n",
       "DEF_60_CNT_SOCIAL_CIRCLE            0.0346   0.0000\n",
       "DAYS_LAST_PHONE_CHANGE             -0.0601   0.0000\n",
       "FLAG_DOCUMENT_2                     0.0040   0.0457\n",
       "FLAG_DOCUMENT_3                     0.0412   0.0000\n",
       "FLAG_DOCUMENT_4                    -0.0026   0.1896\n",
       "FLAG_DOCUMENT_5                    -0.0005   0.8008\n",
       "FLAG_DOCUMENT_6                    -0.0080   0.0001\n",
       "FLAG_DOCUMENT_7                    -0.0014   0.4947\n",
       "FLAG_DOCUMENT_8                    -0.0139   0.0000\n",
       "FLAG_DOCUMENT_9                    -0.0053   0.0081\n",
       "FLAG_DOCUMENT_10                   -0.0015   0.4489\n",
       "FLAG_DOCUMENT_11                   -0.0057   0.0043\n",
       "FLAG_DOCUMENT_12                   -0.0009   0.6619\n",
       "FLAG_DOCUMENT_13                   -0.0125   0.0000\n",
       "FLAG_DOCUMENT_14                   -0.0115   0.0000\n",
       "FLAG_DOCUMENT_15                   -0.0070   0.0005\n",
       "FLAG_DOCUMENT_16                   -0.0138   0.0000\n",
       "FLAG_DOCUMENT_17                   -0.0036   0.0699\n",
       "FLAG_DOCUMENT_18                   -0.0100   0.0000\n",
       "FLAG_DOCUMENT_19                   -0.0021   0.2974\n",
       "FLAG_DOCUMENT_20                    0.0007   0.7095\n",
       "FLAG_DOCUMENT_21                    0.0036   0.0735\n",
       "AMT_REQ_CREDIT_BUREAU_HOUR          0.0002   0.9086\n",
       "AMT_REQ_CREDIT_BUREAU_DAY          -0.0001   0.9519\n",
       "AMT_REQ_CREDIT_BUREAU_WEEK         -0.0025   0.2056\n",
       "AMT_REQ_CREDIT_BUREAU_MON          -0.0144   0.0000\n",
       "AMT_REQ_CREDIT_BUREAU_QRT          -0.0061   0.0024\n",
       "AMT_REQ_CREDIT_BUREAU_YEAR          0.0157   0.0000"
      ]
     },
     "execution_count": 19,
     "metadata": {},
     "output_type": "execute_result"
    }
   ],
   "source": [
    "pd.DataFrame(\n",
    "    [scipy.stats.pearsonr(X_numerical[col], \n",
    "    y_numerical) for col in X_numerical.columns], \n",
    "    columns=[\"Pearson Corr.\", \"p-value\"], \n",
    "    index=X_numerical.columns,\n",
    ").round(4)"
   ]
  },
  {
   "cell_type": "code",
   "execution_count": 20,
   "metadata": {},
   "outputs": [],
   "source": [
    "#list of numerical columns to drop whose p-value > 0.05\n",
    "drop_numerical_columns = ['FLAG_MOBIL','FLAG_EMP_PHONE','FLAG_CONT_MOBILE','CNT_FAM_MEMBERS','REG_REGION_NOT_WORK_REGION','LIVE_REGION_NOT_WORK_REGION','FLAG_DOCUMENT_4','FLAG_DOCUMENT_5','FLAG_DOCUMENT_7','FLAG_DOCUMENT_10','FLAG_DOCUMENT_12','FLAG_DOCUMENT_17','FLAG_DOCUMENT_19','FLAG_DOCUMENT_20','FLAG_DOCUMENT_21','AMT_REQ_CREDIT_BUREAU_HOUR','AMT_REQ_CREDIT_BUREAU_DAY','AMT_REQ_CREDIT_BUREAU_WEEK']\n",
    "drop_columns = ['FLAG_DOCUMENT_13','DAYS_LAST_PHONE_CHANGE','DAYS_ID_PUBLISH','DAYS_REGISTRATION','DAYS_EMPLOYED','DAYS_BIRTH','FLAG_DOCUMENT_18','FLAG_DOCUMENT_16','FLAG_DOCUMENT_15','FLAG_DOCUMENT_14','FLAG_DOCUMENT_11','FLAG_DOCUMENT_9','FLAG_DOCUMENT_8','FLAG_DOCUMENT_6','FLAG_DOCUMENT_3','FLAG_DOCUMENT_2','FLAG_EMAIL','FLAG_PHONE','FLAG_WORK_PHONE']"
   ]
  },
  {
   "cell_type": "code",
   "execution_count": 21,
   "metadata": {},
   "outputs": [],
   "source": [
    "X_Categorical = application_data.select_dtypes(exclude=['int64','float64']).copy()\n",
    "y_Categorical = application_data['TARGET']"
   ]
  },
  {
   "cell_type": "code",
   "execution_count": 22,
   "metadata": {},
   "outputs": [
    {
     "name": "stdout",
     "output_type": "stream",
     "text": [
      "feature: NAME_CONTRACT_TYPE , p-value: 0.0000000000000000000000000\n",
      "feature: CODE_GENDER , p-value: 0.0000000000000000000000000\n",
      "feature: FLAG_OWN_CAR , p-value: 0.0000000000000000000000000\n",
      "feature: FLAG_OWN_REALTY , p-value: 0.1402828645987392042204789\n",
      "feature: NAME_TYPE_SUITE , p-value: 0.0000023875943113435095813\n",
      "feature: NAME_INCOME_TYPE , p-value: 0.0000000000000000000000000\n",
      "feature: NAME_EDUCATION_TYPE , p-value: 0.0000000000000000000000000\n",
      "feature: NAME_FAMILY_STATUS , p-value: 0.0000000000000000000000000\n",
      "feature: NAME_HOUSING_TYPE , p-value: 0.0000000000000000000000000\n",
      "feature: WEEKDAY_APPR_PROCESS_START , p-value: 0.0069261606788598092943054\n",
      "feature: ORGANIZATION_TYPE , p-value: 0.0000000000000000000000000\n"
     ]
    }
   ],
   "source": [
    "for col in X_Categorical.columns:\n",
    "    table = pd.crosstab(X_Categorical[col], y_Categorical)\n",
    "    _, pval, _, expected_table = scipy.stats.chi2_contingency(table)\n",
    "    print(f\"feature: {col} , p-value: {pval:.25f}\")"
   ]
  },
  {
   "cell_type": "code",
   "execution_count": 23,
   "metadata": {},
   "outputs": [],
   "source": [
    "application_data = application_data.drop(drop_numerical_columns, axis= \"columns\")\n",
    "application_data = application_data.drop(drop_columns, axis= \"columns\")\n",
    "application_data = application_data.drop(['ORGANIZATION_TYPE'], axis= \"columns\")"
   ]
  },
  {
   "cell_type": "markdown",
   "metadata": {},
   "source": [
    "# Encoding Categorical columns"
   ]
  },
  {
   "cell_type": "code",
   "execution_count": 24,
   "metadata": {},
   "outputs": [],
   "source": [
    "X_Categorical = application_data.select_dtypes(exclude=['int64','float64']).copy()\n",
    "application_data = pd.get_dummies(application_data, columns=X_Categorical.columns)"
   ]
  },
  {
   "cell_type": "code",
   "execution_count": 25,
   "metadata": {},
   "outputs": [
    {
     "data": {
      "text/plain": [
       "(248769, 68)"
      ]
     },
     "execution_count": 25,
     "metadata": {},
     "output_type": "execute_result"
    }
   ],
   "source": [
    "application_data.shape"
   ]
  },
  {
   "cell_type": "markdown",
   "metadata": {},
   "source": [
    "# Seperating dependent & independent variables"
   ]
  },
  {
   "cell_type": "code",
   "execution_count": 26,
   "metadata": {},
   "outputs": [],
   "source": [
    "X = application_data.drop([\"TARGET\"], axis= \"columns\")\n",
    "y = application_data['TARGET']"
   ]
  },
  {
   "cell_type": "markdown",
   "metadata": {},
   "source": [
    "As we have highly imbalanced data, we will be using some sampling techniques and metric used to estimate the model performance is F1_Score"
   ]
  },
  {
   "cell_type": "markdown",
   "metadata": {},
   "source": [
    "# Train Test Split"
   ]
  },
  {
   "cell_type": "code",
   "execution_count": 27,
   "metadata": {},
   "outputs": [],
   "source": [
    "def train_test_data(X,y,scaling):\n",
    "    X_train, X_test, y_train, y_test = train_test_split(X,y, test_size = 0.2, random_state = 0)\n",
    "    \n",
    "    if scaling == 'Min-Max':\n",
    "        scaler = MinMaxScaler()\n",
    "    else:\n",
    "        scaler = StandardScaler()\n",
    "        \n",
    "    features_names = X_train.columns\n",
    "    X_train = scaler.fit_transform(X_train)\n",
    "    X_train = pd.DataFrame(X_train, columns = features_names)\n",
    "    X_test = scaler.transform(X_test)\n",
    "    X_test = pd.DataFrame(X_test, columns = features_names)\n",
    "    \n",
    "    return X_train, X_test, y_train, y_test\n",
    "\n",
    "    "
   ]
  },
  {
   "cell_type": "code",
   "execution_count": 28,
   "metadata": {},
   "outputs": [],
   "source": [
    "X_train, X_test, y_train, y_test = train_test_data(X,y,'Min-Max')"
   ]
  },
  {
   "cell_type": "code",
   "execution_count": 29,
   "metadata": {},
   "outputs": [
    {
     "name": "stdout",
     "output_type": "stream",
     "text": [
      "X_train shape -  (199015, 67)\n",
      "y_train shape -  (199015,)\n",
      "X_test shape -  (49754, 67)\n",
      "y_test shape -  (49754,)\n"
     ]
    }
   ],
   "source": [
    "print('X_train shape - ', X_train.shape)\n",
    "print('y_train shape - ', y_train.shape)\n",
    "print('X_test shape - ', X_test.shape)\n",
    "print('y_test shape - ', y_test.shape)"
   ]
  },
  {
   "cell_type": "markdown",
   "metadata": {},
   "source": [
    "# Undersampling"
   ]
  },
  {
   "cell_type": "code",
   "execution_count": 24,
   "metadata": {},
   "outputs": [
    {
     "name": "stdout",
     "output_type": "stream",
     "text": [
      "Original train dataset shape Counter({0: 181638, 1: 17377})\n",
      "Resampled train dataset shape Counter({0: 17377, 1: 17377})\n",
      "Original test dataset shape Counter({0: 45426, 1: 4328})\n",
      "Resampled test dataset shape Counter({0: 4328, 1: 4328})\n"
     ]
    }
   ],
   "source": [
    "# instantiating the random undersampler\n",
    "underSampler = RandomUnderSampler() \n",
    "\n",
    "# resampling X, y\n",
    "X_underSampler, y_underSampler = underSampler.fit_resample(X_train, y_train)\n",
    "X_underSampler_test, y_underSampler_test = underSampler.fit_resample(X_test, y_test)\n",
    "\n",
    "# new class distribution\n",
    "print('Original train dataset shape %s' % Counter(y_train))\n",
    "print('Resampled train dataset shape %s' % Counter(y_underSampler))\n",
    "\n",
    "print('Original test dataset shape %s' % Counter(y_test))\n",
    "print('Resampled test dataset shape %s' % Counter(y_underSampler_test))"
   ]
  },
  {
   "cell_type": "code",
   "execution_count": 25,
   "metadata": {},
   "outputs": [],
   "source": [
    "Data_Under = pd.concat([X_underSampler, y_underSampler], axis=1)"
   ]
  },
  {
   "cell_type": "markdown",
   "metadata": {},
   "source": [
    "# Oversampling"
   ]
  },
  {
   "cell_type": "code",
   "execution_count": 26,
   "metadata": {},
   "outputs": [
    {
     "name": "stdout",
     "output_type": "stream",
     "text": [
      "Original train dataset shape Counter({0: 181638, 1: 17377})\n",
      "Resampled train dataset shape Counter({1: 181638, 0: 181638})\n",
      "Original test dataset shape Counter({0: 45426, 1: 4328})\n",
      "Resampled test dataset shape Counter({0: 45426, 1: 45426})\n"
     ]
    }
   ],
   "source": [
    "# instantiating the random over sampler \n",
    "overSampler = RandomOverSampler()\n",
    "\n",
    "# resampling X, y\n",
    "X_overSampler, y_overSampler = overSampler.fit_resample(X_train, y_train)\n",
    "X_overSampler_test, y_overSampler_test = overSampler.fit_resample(X_test, y_test)\n",
    "\n",
    "# new class distribution\n",
    "print('Original train dataset shape %s' % Counter(y_train))\n",
    "print('Resampled train dataset shape %s' % Counter(y_overSampler))\n",
    "\n",
    "print('Original test dataset shape %s' % Counter(y_test))\n",
    "print('Resampled test dataset shape %s' % Counter(y_overSampler_test))"
   ]
  },
  {
   "cell_type": "code",
   "execution_count": 27,
   "metadata": {},
   "outputs": [],
   "source": [
    "Data_Over = pd.concat([X_overSampler, y_overSampler], axis=1)"
   ]
  },
  {
   "cell_type": "markdown",
   "metadata": {},
   "source": [
    "# Hybridsampling"
   ]
  },
  {
   "cell_type": "code",
   "execution_count": 28,
   "metadata": {},
   "outputs": [
    {
     "name": "stdout",
     "output_type": "stream",
     "text": [
      "Original train dataset shape Counter({0: 181638, 1: 17377})\n",
      "Resampled train dataset shape Counter({0: 90819, 1: 90819})\n",
      "Original test dataset shape Counter({0: 45426, 1: 4328})\n",
      "Resampled test dataset shape Counter({0: 22713, 1: 22713})\n"
     ]
    }
   ],
   "source": [
    "# instantiating over and under sampler\n",
    "hybridOverSampler = RandomOverSampler(sampling_strategy=0.5)\n",
    "hybridUnderSampler = RandomUnderSampler(sampling_strategy=1)\n",
    "\n",
    "# first performing oversampling to minority class\n",
    "X_hybridOverSampler, y_hybridOverSampler = hybridOverSampler.fit_resample(X_train, y_train)\n",
    "X_hybridOverSampler_test, y_hybridOverSampler_test = hybridOverSampler.fit_resample(X_test, y_test)\n",
    "\n",
    "# now to combine under sampling \n",
    "X_combined_sampling, y_combined_sampling = hybridUnderSampler.fit_resample(X_hybridOverSampler, y_hybridOverSampler)\n",
    "X_combined_sampling_test, y_combined_sampling_test = hybridUnderSampler.fit_resample(X_hybridOverSampler_test, y_hybridOverSampler_test)\n",
    "\n",
    "# new class distribution\n",
    "print('Original train dataset shape %s' % Counter(y_train))\n",
    "print('Resampled train dataset shape %s' % Counter(y_combined_sampling))\n",
    "\n",
    "print('Original test dataset shape %s' % Counter(y_test))\n",
    "print('Resampled test dataset shape %s' % Counter(y_combined_sampling_test))"
   ]
  },
  {
   "cell_type": "code",
   "execution_count": 29,
   "metadata": {},
   "outputs": [],
   "source": [
    "Data_Hybrid = pd.concat([X_combined_sampling, y_combined_sampling], axis=1)"
   ]
  },
  {
   "cell_type": "markdown",
   "metadata": {},
   "source": [
    "# Hybrid Sampling using SMOTE"
   ]
  },
  {
   "cell_type": "code",
   "execution_count": 30,
   "metadata": {},
   "outputs": [
    {
     "name": "stdout",
     "output_type": "stream",
     "text": [
      "Original dataset shape Counter({0: 181638, 1: 17377})\n",
      "Resampled dataset shape Counter({1: 181275, 0: 181275})\n",
      "Original test dataset shape Counter({0: 45426, 1: 4328})\n",
      "Resampled test dataset shape Counter({0: 45370, 1: 45370})\n"
     ]
    }
   ],
   "source": [
    "hybridSMOTE = SMOTETomek()\n",
    "X_SMOTE,y_SMOTE = hybridSMOTE.fit_resample(X_train,y_train)\n",
    "X_SMOTE_test,y_SMOTE_test = hybridSMOTE.fit_resample(X_test,y_test)\n",
    "\n",
    "# new class distribution\n",
    "print('Original dataset shape %s' % Counter(y_train))\n",
    "print('Resampled dataset shape %s' % Counter(y_SMOTE))\n",
    "\n",
    "print('Original test dataset shape %s' % Counter(y_test))\n",
    "print('Resampled test dataset shape %s' % Counter(y_SMOTE_test))"
   ]
  },
  {
   "cell_type": "code",
   "execution_count": 31,
   "metadata": {},
   "outputs": [],
   "source": [
    "#Data_SMOTE = pd.concat([X_SMOTE, y_SMOTE], axis=1)\n",
    "Data_SMOTE_test = pd.concat([X_SMOTE_test, y_SMOTE_test], axis=1)"
   ]
  },
  {
   "cell_type": "code",
   "execution_count": 32,
   "metadata": {},
   "outputs": [],
   "source": [
    "Data_SMOTE.to_csv('Data_SMOTE.csv')\n",
    "Data_SMOTE_test.to_csv('Data_SMOTE_test.csv')"
   ]
  },
  {
   "cell_type": "code",
   "execution_count": 50,
   "metadata": {},
   "outputs": [],
   "source": [
    "Data_SMOTE = pd.read_csv('Data_SMOTE.csv')\n",
    "Data_SMOTE_test = pd.read_csv('Data_SMOTE_test.csv')"
   ]
  },
  {
   "cell_type": "code",
   "execution_count": 51,
   "metadata": {},
   "outputs": [],
   "source": [
    "X_SMOTE = Data_SMOTE.drop([\"TARGET\"], axis= \"columns\")\n",
    "y_SMOTE = Data_SMOTE['TARGET']\n",
    "\n",
    "X_SMOTE_test = Data_SMOTE_test.drop([\"TARGET\"], axis= \"columns\")\n",
    "y_SMOTE_test = Data_SMOTE_test['TARGET']"
   ]
  },
  {
   "cell_type": "markdown",
   "metadata": {},
   "source": [
    "# Confusion Matrix"
   ]
  },
  {
   "cell_type": "code",
   "execution_count": 35,
   "metadata": {},
   "outputs": [],
   "source": [
    "def confusion_matrix_scratch(y,y_pred):\n",
    "    TP = sum((y==1) & (y_pred == 1))\n",
    "    TN = sum((y==0) & (y_pred == 0))\n",
    "    FP = sum((y==0) & (y_pred == 1))\n",
    "    FN = sum((y==1) & (y_pred == 0))\n",
    "    \n",
    "    return TP, TN, FP, FN"
   ]
  },
  {
   "cell_type": "code",
   "execution_count": 36,
   "metadata": {},
   "outputs": [],
   "source": [
    "def plot_confusionMatrix(y_test,y_pred):\n",
    "    conf_matrix = confusion_matrix(y_true=y_test, y_pred=y_pred)\n",
    "\n",
    "    fig, ax = plt.subplots(figsize=(7.5, 7.5))\n",
    "    ax.matshow(conf_matrix, cmap=plt.cm.Blues, alpha=0.3)\n",
    "    for i in range(conf_matrix.shape[0]):\n",
    "        for j in range(conf_matrix.shape[1]):\n",
    "            ax.text(x=j, y=i,s=conf_matrix[i, j], va='center', ha='center', size='xx-large')\n",
    "\n",
    "    plt.xlabel('Predictions', fontsize=18)\n",
    "    plt.ylabel('Actuals', fontsize=18)\n",
    "    plt.title('Confusion Matrix', fontsize=18)\n",
    "    plt.show()\n",
    "    "
   ]
  },
  {
   "cell_type": "code",
   "execution_count": 37,
   "metadata": {},
   "outputs": [],
   "source": [
    "def results(y_test,y_prob,threshold):\n",
    "\n",
    "    y_pred = (y_prob > threshold).astype(int)\n",
    "    \n",
    "    TP, TN, FP, FN = confusion_matrix_scratch(y_test, y_pred)\n",
    "\n",
    "    TPR = TP/(TP+FN)\n",
    "    TNR = TN/(TN+FP)\n",
    "    FPR = FP/(TN+FP)\n",
    "    FNR = FN/(TP+FN)\n",
    "    \n",
    "    print('TPR - ', TPR)\n",
    "    print('TNR - ', TNR)\n",
    "    print('FPR - ', FPR)\n",
    "    print('FNR - ', FNR)\n",
    "    \n",
    "    return y_pred\n",
    "    "
   ]
  },
  {
   "cell_type": "markdown",
   "metadata": {},
   "source": [
    "# Logistic Regression"
   ]
  },
  {
   "cell_type": "code",
   "execution_count": 37,
   "metadata": {},
   "outputs": [],
   "source": [
    "def logistic_regression(X_train, X_test, y_train, y_test):\n",
    "    \n",
    "    model = LogisticRegression(max_iter = 1000,n_jobs=None, penalty='l2', solver = 'lbfgs', random_state = 0 )\n",
    "    parameters = {'C':[0.001, 0.01, 0.1, 1, 10, 100,1000]}\n",
    "    classifier = GridSearchCV(model, parameters, cv = 5).fit(X_train, y_train)\n",
    "    \n",
    "    model = classifier.best_estimator_\n",
    "    model.fit(X_train, y_train)\n",
    "    \n",
    "    y_prob = model.predict_proba(X_test)[:,1]\n",
    "    \n",
    "    print(model)\n",
    "    return X_test, y_test, y_prob"
   ]
  },
  {
   "cell_type": "markdown",
   "metadata": {},
   "source": [
    "## Logistic Regression with under sampled data and Min-Max scaling"
   ]
  },
  {
   "cell_type": "code",
   "execution_count": 38,
   "metadata": {},
   "outputs": [
    {
     "name": "stdout",
     "output_type": "stream",
     "text": [
      "LogisticRegression(C=10, max_iter=1000, random_state=0)\n"
     ]
    }
   ],
   "source": [
    "X_underSampler_test, y_underSampler_test, y_prob = logistic_regression(X_underSampler,X_underSampler_test, y_underSampler, y_underSampler_test)"
   ]
  },
  {
   "cell_type": "code",
   "execution_count": 39,
   "metadata": {},
   "outputs": [
    {
     "name": "stdout",
     "output_type": "stream",
     "text": [
      "TPR -  0.6682070240295749\n",
      "TNR -  0.6825323475046211\n",
      "FPR -  0.31746765249537895\n",
      "FNR -  0.3317929759704251\n"
     ]
    }
   ],
   "source": [
    "y_pred = results(y_underSampler_test,y_prob,0.5)"
   ]
  },
  {
   "cell_type": "code",
   "execution_count": 40,
   "metadata": {},
   "outputs": [
    {
     "data": {
      "image/png": "[encoded data removed]",
      "text/plain": [
       "<Figure size 540x540 with 1 Axes>"
      ]
     },
     "metadata": {
      "needs_background": "light"
     },
     "output_type": "display_data"
    }
   ],
   "source": [
    "plot_confusionMatrix(y_underSampler_test,y_pred)"
   ]
  },
  {
   "cell_type": "code",
   "execution_count": 41,
   "metadata": {},
   "outputs": [
    {
     "data": {
      "text/plain": [
       "0.6730276937398185"
      ]
     },
     "execution_count": 41,
     "metadata": {},
     "output_type": "execute_result"
    }
   ],
   "source": [
    "f1_score(y_underSampler_test,y_pred)"
   ]
  },
  {
   "cell_type": "markdown",
   "metadata": {},
   "source": [
    "## Logistic Regression with over sampled data and Min-Max scaling"
   ]
  },
  {
   "cell_type": "code",
   "execution_count": 42,
   "metadata": {},
   "outputs": [
    {
     "name": "stdout",
     "output_type": "stream",
     "text": [
      "LogisticRegression(C=10, max_iter=1000, random_state=0)\n"
     ]
    }
   ],
   "source": [
    "X_overSampler_test, y_overSampler_test, y_prob = logistic_regression(X_overSampler, X_overSampler_test, y_overSampler, y_overSampler_test)"
   ]
  },
  {
   "cell_type": "code",
   "execution_count": 43,
   "metadata": {},
   "outputs": [
    {
     "name": "stdout",
     "output_type": "stream",
     "text": [
      "TPR -  0.6728525514022806\n",
      "TNR -  0.6819442609959054\n",
      "FPR -  0.31805573900409456\n",
      "FNR -  0.3271474485977194\n"
     ]
    }
   ],
   "source": [
    "y_pred = results(y_overSampler_test,y_prob,0.5)"
   ]
  },
  {
   "cell_type": "code",
   "execution_count": 44,
   "metadata": {},
   "outputs": [
    {
     "data": {
      "image/png": "[encoded data removed]",
      "text/plain": [
       "<Figure size 540x540 with 1 Axes>"
      ]
     },
     "metadata": {
      "needs_background": "light"
     },
     "output_type": "display_data"
    }
   ],
   "source": [
    "plot_confusionMatrix(y_overSampler_test,y_pred)"
   ]
  },
  {
   "cell_type": "code",
   "execution_count": 45,
   "metadata": {},
   "outputs": [
    {
     "data": {
      "text/plain": [
       "0.6759252092570682"
      ]
     },
     "execution_count": 45,
     "metadata": {},
     "output_type": "execute_result"
    }
   ],
   "source": [
    "f1_score(y_overSampler_test,y_pred)"
   ]
  },
  {
   "cell_type": "markdown",
   "metadata": {},
   "source": [
    "## Logistic Regression with Hybrid sampled data and Min-Max scaling"
   ]
  },
  {
   "cell_type": "code",
   "execution_count": 46,
   "metadata": {},
   "outputs": [
    {
     "name": "stdout",
     "output_type": "stream",
     "text": [
      "LogisticRegression(C=1, max_iter=1000, random_state=0)\n"
     ]
    }
   ],
   "source": [
    "X_combined_sampling_test, y_combined_sampling_test, y_prob = logistic_regression(X_combined_sampling, X_combined_sampling_test, y_combined_sampling, y_combined_sampling_test)"
   ]
  },
  {
   "cell_type": "code",
   "execution_count": 47,
   "metadata": {},
   "outputs": [
    {
     "name": "stdout",
     "output_type": "stream",
     "text": [
      "TPR -  0.6671509708096685\n",
      "TNR -  0.6784660766961652\n",
      "FPR -  0.3215339233038348\n",
      "FNR -  0.33284902919033155\n"
     ]
    }
   ],
   "source": [
    "y_pred = results(y_combined_sampling_test,y_prob,0.5)"
   ]
  },
  {
   "cell_type": "code",
   "execution_count": 48,
   "metadata": {},
   "outputs": [
    {
     "data": {
      "image/png": "[encoded data removed]",
      "text/plain": [
       "<Figure size 540x540 with 1 Axes>"
      ]
     },
     "metadata": {
      "needs_background": "light"
     },
     "output_type": "display_data"
    }
   ],
   "source": [
    "plot_confusionMatrix(y_combined_sampling_test,y_pred)"
   ]
  },
  {
   "cell_type": "code",
   "execution_count": 49,
   "metadata": {},
   "outputs": [
    {
     "data": {
      "text/plain": [
       "0.6709468883526313"
      ]
     },
     "execution_count": 49,
     "metadata": {},
     "output_type": "execute_result"
    }
   ],
   "source": [
    "f1_score(y_combined_sampling_test,y_pred)"
   ]
  },
  {
   "cell_type": "markdown",
   "metadata": {},
   "source": [
    "## Logistic Regression with Hybrid SMOTE data and Min-Max scaling"
   ]
  },
  {
   "cell_type": "code",
   "execution_count": 50,
   "metadata": {},
   "outputs": [
    {
     "name": "stdout",
     "output_type": "stream",
     "text": [
      "LogisticRegression(C=1000, max_iter=1000, random_state=0)\n"
     ]
    }
   ],
   "source": [
    "X_SMOTE_test, y_SMOTE_test, y_prob = logistic_regression(X_SMOTE, X_SMOTE_test, y_SMOTE, y_SMOTE_test)"
   ]
  },
  {
   "cell_type": "code",
   "execution_count": 51,
   "metadata": {},
   "outputs": [
    {
     "name": "stdout",
     "output_type": "stream",
     "text": [
      "TPR -  0.6950859409431468\n",
      "TNR -  0.6834288232701631\n",
      "FPR -  0.3165711767298369\n",
      "FNR -  0.30491405905685326\n"
     ]
    }
   ],
   "source": [
    "y_pred = results(y_SMOTE_test,y_prob,0.5)"
   ]
  },
  {
   "cell_type": "code",
   "execution_count": 52,
   "metadata": {},
   "outputs": [
    {
     "data": {
      "image/png": "[encoded data removed]",
      "text/plain": [
       "<Figure size 540x540 with 1 Axes>"
      ]
     },
     "metadata": {
      "needs_background": "light"
     },
     "output_type": "display_data"
    }
   ],
   "source": [
    "plot_confusionMatrix(y_SMOTE_test,y_pred)"
   ]
  },
  {
   "cell_type": "code",
   "execution_count": 53,
   "metadata": {},
   "outputs": [
    {
     "data": {
      "text/plain": [
       "0.6910580683324389"
      ]
     },
     "execution_count": 53,
     "metadata": {},
     "output_type": "execute_result"
    }
   ],
   "source": [
    "f1_score(y_SMOTE_test,y_pred)"
   ]
  },
  {
   "cell_type": "markdown",
   "metadata": {},
   "source": [
    "# Decision Trees"
   ]
  },
  {
   "cell_type": "code",
   "execution_count": 54,
   "metadata": {},
   "outputs": [],
   "source": [
    "def decision_tree(X_train, X_test, y_train, y_test):\n",
    "    max_depth_list = [5,10,20,30,40,45,50,60]\n",
    "    previous_score = 0\n",
    "    max_depth = 1\n",
    "    \n",
    "    for i in max_depth_list:\n",
    "        classifier = tree.DecisionTreeClassifier(random_state = 42, max_depth = i).fit(X_train, y_train)\n",
    "        current_score = classifier.score(X_test, y_test)\n",
    "        \n",
    "        \n",
    "        if previous_score < current_score:\n",
    "            previous_score = current_score\n",
    "            max_depth = i\n",
    "            \n",
    "    classifier = tree.DecisionTreeClassifier(random_state = 42, max_depth = max_depth).fit(X_train, y_train)\n",
    "            \n",
    "    y_prob = classifier.predict_proba(X_test)[:,1]\n",
    "\n",
    "    print(classifier)\n",
    "    \n",
    "    return classifier, X_test, y_test, y_prob\n",
    "    "
   ]
  },
  {
   "cell_type": "markdown",
   "metadata": {},
   "source": [
    "## Decision Tree with Under sampled data and Min-Max scaling"
   ]
  },
  {
   "cell_type": "code",
   "execution_count": 55,
   "metadata": {},
   "outputs": [
    {
     "name": "stdout",
     "output_type": "stream",
     "text": [
      "DecisionTreeClassifier(max_depth=5, random_state=42)\n"
     ]
    }
   ],
   "source": [
    "model, X_underSampler_test, y_underSampler_test, y_prob = decision_tree(X_underSampler, X_underSampler_test, y_underSampler, y_underSampler_test)"
   ]
  },
  {
   "cell_type": "code",
   "execution_count": 56,
   "metadata": {},
   "outputs": [
    {
     "name": "stdout",
     "output_type": "stream",
     "text": [
      "TPR -  0.6594269870609981\n",
      "TNR -  0.6511090573012939\n",
      "FPR -  0.3488909426987061\n",
      "FNR -  0.34057301293900183\n"
     ]
    }
   ],
   "source": [
    "y_pred = results(y_underSampler_test,y_prob,0.5)"
   ]
  },
  {
   "cell_type": "code",
   "execution_count": 57,
   "metadata": {},
   "outputs": [
    {
     "data": {
      "image/png": "[encoded data removed]",
      "text/plain": [
       "<Figure size 540x540 with 1 Axes>"
      ]
     },
     "metadata": {
      "needs_background": "light"
     },
     "output_type": "display_data"
    }
   ],
   "source": [
    "plot_confusionMatrix(y_underSampler_test,y_pred)"
   ]
  },
  {
   "cell_type": "code",
   "execution_count": 58,
   "metadata": {},
   "outputs": [
    {
     "data": {
      "text/plain": [
       "0.6566958122411413"
      ]
     },
     "execution_count": 58,
     "metadata": {},
     "output_type": "execute_result"
    }
   ],
   "source": [
    "f1_score(y_underSampler_test,y_pred)"
   ]
  },
  {
   "cell_type": "markdown",
   "metadata": {},
   "source": [
    "## Decision Tree with Over sampled data and Min-Max scaling"
   ]
  },
  {
   "cell_type": "code",
   "execution_count": 59,
   "metadata": {},
   "outputs": [
    {
     "name": "stdout",
     "output_type": "stream",
     "text": [
      "DecisionTreeClassifier(max_depth=5, random_state=42)\n"
     ]
    }
   ],
   "source": [
    "model, X_overSampler_test, y_overSampler_test, y_prob = decision_tree(X_overSampler, X_overSampler_test, y_overSampler, y_overSampler_test)"
   ]
  },
  {
   "cell_type": "code",
   "execution_count": 60,
   "metadata": {},
   "outputs": [
    {
     "name": "stdout",
     "output_type": "stream",
     "text": [
      "TPR -  0.5690353542024391\n",
      "TNR -  0.7360322282393343\n",
      "FPR -  0.2639677717606657\n",
      "FNR -  0.4309646457975609\n"
     ]
    }
   ],
   "source": [
    "y_pred = results(y_overSampler_test,y_prob,0.5)"
   ]
  },
  {
   "cell_type": "code",
   "execution_count": 61,
   "metadata": {},
   "outputs": [
    {
     "data": {
      "image/png": "[encoded data removed]",
      "text/plain": [
       "<Figure size 540x540 with 1 Axes>"
      ]
     },
     "metadata": {
      "needs_background": "light"
     },
     "output_type": "display_data"
    }
   ],
   "source": [
    "plot_confusionMatrix(y_overSampler_test,y_pred)"
   ]
  },
  {
   "cell_type": "code",
   "execution_count": 62,
   "metadata": {},
   "outputs": [
    {
     "data": {
      "text/plain": [
       "0.6208776691566786"
      ]
     },
     "execution_count": 62,
     "metadata": {},
     "output_type": "execute_result"
    }
   ],
   "source": [
    "f1_score(y_overSampler_test,y_pred)"
   ]
  },
  {
   "cell_type": "markdown",
   "metadata": {},
   "source": [
    "## Decision Tree with Hybrid sampled data and Min-Max scaling"
   ]
  },
  {
   "cell_type": "code",
   "execution_count": 63,
   "metadata": {},
   "outputs": [
    {
     "name": "stdout",
     "output_type": "stream",
     "text": [
      "DecisionTreeClassifier(max_depth=5, random_state=42)\n"
     ]
    }
   ],
   "source": [
    "model, X_combined_sampling_test, y_combined_sampling_test, y_prob = decision_tree(X_combined_sampling, X_combined_sampling_test, y_combined_sampling, y_combined_sampling_test)"
   ]
  },
  {
   "cell_type": "code",
   "execution_count": 64,
   "metadata": {},
   "outputs": [
    {
     "name": "stdout",
     "output_type": "stream",
     "text": [
      "TPR -  0.5662836261172016\n",
      "TNR -  0.7296702329062651\n",
      "FPR -  0.27032976709373485\n",
      "FNR -  0.4337163738827984\n"
     ]
    }
   ],
   "source": [
    "y_pred = results(y_combined_sampling_test,y_prob,0.5)"
   ]
  },
  {
   "cell_type": "code",
   "execution_count": 65,
   "metadata": {},
   "outputs": [
    {
     "data": {
      "image/png": "[encoded data removed]",
      "text/plain": [
       "<Figure size 540x540 with 1 Axes>"
      ]
     },
     "metadata": {
      "needs_background": "light"
     },
     "output_type": "display_data"
    }
   ],
   "source": [
    "plot_confusionMatrix(y_combined_sampling_test,y_pred)"
   ]
  },
  {
   "cell_type": "code",
   "execution_count": 66,
   "metadata": {},
   "outputs": [
    {
     "data": {
      "text/plain": [
       "0.6166606736186024"
      ]
     },
     "execution_count": 66,
     "metadata": {},
     "output_type": "execute_result"
    }
   ],
   "source": [
    "f1_score(y_combined_sampling_test,y_pred)"
   ]
  },
  {
   "cell_type": "markdown",
   "metadata": {},
   "source": [
    "## Decision Tree with SMOTE sampled data and Min-Max scaling"
   ]
  },
  {
   "cell_type": "code",
   "execution_count": 67,
   "metadata": {},
   "outputs": [
    {
     "name": "stdout",
     "output_type": "stream",
     "text": [
      "DecisionTreeClassifier(max_depth=20, random_state=42)\n"
     ]
    }
   ],
   "source": [
    "model, X_SMOTE_test, y_SMOTE_test, y_prob = decision_tree(X_SMOTE, X_SMOTE_test, y_SMOTE, y_SMOTE_test)"
   ]
  },
  {
   "cell_type": "code",
   "execution_count": 68,
   "metadata": {},
   "outputs": [
    {
     "name": "stdout",
     "output_type": "stream",
     "text": [
      "TPR -  0.8553107095636845\n",
      "TNR -  0.9269722344645218\n",
      "FPR -  0.07302776553547818\n",
      "FNR -  0.14468929043631557\n"
     ]
    }
   ],
   "source": [
    "y_pred = results(y_SMOTE_test,y_prob,0.5)"
   ]
  },
  {
   "cell_type": "code",
   "execution_count": 69,
   "metadata": {},
   "outputs": [
    {
     "data": {
      "image/png": "[encoded data removed]",
      "text/plain": [
       "<Figure size 540x540 with 1 Axes>"
      ]
     },
     "metadata": {
      "needs_background": "light"
     },
     "output_type": "display_data"
    }
   ],
   "source": [
    "plot_confusionMatrix(y_SMOTE_test,y_pred)"
   ]
  },
  {
   "cell_type": "code",
   "execution_count": 70,
   "metadata": {},
   "outputs": [
    {
     "data": {
      "text/plain": [
       "0.8870960369337662"
      ]
     },
     "execution_count": 70,
     "metadata": {},
     "output_type": "execute_result"
    }
   ],
   "source": [
    "f1_score(y_SMOTE_test,y_pred)"
   ]
  },
  {
   "cell_type": "markdown",
   "metadata": {},
   "source": [
    "# Random Forest"
   ]
  },
  {
   "cell_type": "code",
   "execution_count": 71,
   "metadata": {},
   "outputs": [],
   "source": [
    "random_Forest = RandomForestClassifier(random_state = 0, class_weight = None).fit(X_SMOTE, y_SMOTE)\n",
    "parameters = {'n_estimators':[10, 100, 500, 1000]}\n",
    "random_Forest_Classifier = GridSearchCV(random_Forest, parameters, cv = 5).fit(X_SMOTE, y_SMOTE)\n",
    "\n",
    "y_prob_RF = random_Forest_Classifier.predict_proba(X_SMOTE_test)[:,1]"
   ]
  },
  {
   "cell_type": "code",
   "execution_count": 72,
   "metadata": {},
   "outputs": [
    {
     "name": "stdout",
     "output_type": "stream",
     "text": [
      "TPR -  0.8411194358748347\n",
      "TNR -  0.9964301454385192\n",
      "FPR -  0.0035698545614808288\n",
      "FNR -  0.15888056412516527\n"
     ]
    }
   ],
   "source": [
    "y_pred_RF = results(y_SMOTE_test,y_prob_RF,0.5)"
   ]
  },
  {
   "cell_type": "code",
   "execution_count": 73,
   "metadata": {},
   "outputs": [
    {
     "data": {
      "image/png": "[encoded data removed]",
      "text/plain": [
       "<Figure size 540x540 with 1 Axes>"
      ]
     },
     "metadata": {
      "needs_background": "light"
     },
     "output_type": "display_data"
    }
   ],
   "source": [
    "plot_confusionMatrix(y_SMOTE_test,y_pred_RF)"
   ]
  },
  {
   "cell_type": "code",
   "execution_count": 74,
   "metadata": {},
   "outputs": [
    {
     "data": {
      "text/plain": [
       "0.9119361620795108"
      ]
     },
     "execution_count": 74,
     "metadata": {},
     "output_type": "execute_result"
    }
   ],
   "source": [
    "f1_score(y_SMOTE_test,y_pred_RF)"
   ]
  },
  {
   "cell_type": "code",
   "execution_count": 58,
   "metadata": {},
   "outputs": [],
   "source": [
    "clf = AdaBoostClassifier(n_estimators=1000, random_state=0)\n",
    "clf.fit(X_SMOTE, y_SMOTE)\n",
    "pred = clf.predict_proba(X_SMOTE_test)[:,1]\n"
   ]
  },
  {
   "cell_type": "code",
   "execution_count": 59,
   "metadata": {},
   "outputs": [
    {
     "name": "stdout",
     "output_type": "stream",
     "text": [
      "TPR -  0.9024245095878334\n",
      "TNR -  0.9953934317831166\n",
      "FPR -  0.004606568216883403\n",
      "FNR -  0.09757549041216663\n"
     ]
    }
   ],
   "source": [
    "y_pred = results(y_SMOTE_test,pred,0.5)"
   ]
  },
  {
   "cell_type": "code",
   "execution_count": 62,
   "metadata": {},
   "outputs": [
    {
     "data": {
      "image/png": "[encoded data removed]",
      "text/plain": [
       "<Figure size 540x540 with 1 Axes>"
      ]
     },
     "metadata": {
      "needs_background": "light"
     },
     "output_type": "display_data"
    }
   ],
   "source": [
    "plot_confusionMatrix(y_SMOTE_test,y_pred)"
   ]
  },
  {
   "cell_type": "code",
   "execution_count": 60,
   "metadata": {},
   "outputs": [
    {
     "data": {
      "text/plain": [
       "0.9464182520052703"
      ]
     },
     "execution_count": 60,
     "metadata": {},
     "output_type": "execute_result"
    }
   ],
   "source": [
    "f1_score(y_SMOTE_test,y_pred)"
   ]
  },
  {
   "cell_type": "code",
   "execution_count": 77,
   "metadata": {},
   "outputs": [
    {
     "name": "stderr",
     "output_type": "stream",
     "text": [
      "C:\\ProgramData\\Anaconda3\\lib\\site-packages\\xgboost\\sklearn.py:1224: UserWarning: The use of label encoder in XGBClassifier is deprecated and will be removed in a future release. To remove this warning, do the following: 1) Pass option use_label_encoder=False when constructing XGBClassifier object; and 2) Encode your labels (y) as integers starting with 0, i.e. 0, 1, 2, ..., [num_class - 1].\n",
      "  warnings.warn(label_encoder_deprecation_msg, UserWarning)\n"
     ]
    },
    {
     "name": "stdout",
     "output_type": "stream",
     "text": [
      "[17:39:40] WARNING: C:/Users/Administrator/workspace/xgboost-win64_release_1.5.1/src/learner.cc:1115: Starting in XGBoost 1.3.0, the default evaluation metric used with the objective 'binary:logistic' was changed from 'error' to 'logloss'. Explicitly set eval_metric if you'd like to restore the old behavior.\n"
     ]
    }
   ],
   "source": [
    "from xgboost import XGBClassifier\n",
    "\n",
    "xgb = XGBClassifier(n_estimators=1000)\n",
    "xgb.fit(X_SMOTE, y_SMOTE)\n",
    "y_pred_xgb = xgb.predict_proba(X_SMOTE_test)[:,1]"
   ]
  },
  {
   "cell_type": "code",
   "execution_count": 78,
   "metadata": {},
   "outputs": [
    {
     "name": "stdout",
     "output_type": "stream",
     "text": [
      "TPR -  0.9098964073176108\n",
      "TNR -  0.989905223716112\n",
      "FPR -  0.010094776283888031\n",
      "FNR -  0.09010359268238924\n"
     ]
    }
   ],
   "source": [
    "y_pred = results(y_SMOTE_test,y_pred_xgb,0.5)"
   ]
  },
  {
   "cell_type": "code",
   "execution_count": 79,
   "metadata": {},
   "outputs": [
    {
     "data": {
      "image/png": "[encoded data removed]",
      "text/plain": [
       "<Figure size 540x540 with 1 Axes>"
      ]
     },
     "metadata": {
      "needs_background": "light"
     },
     "output_type": "display_data"
    }
   ],
   "source": [
    "plot_confusionMatrix(y_SMOTE_test,y_pred)"
   ]
  },
  {
   "cell_type": "code",
   "execution_count": 80,
   "metadata": {},
   "outputs": [
    {
     "data": {
      "text/plain": [
       "0.9478131098610952"
      ]
     },
     "execution_count": 80,
     "metadata": {},
     "output_type": "execute_result"
    }
   ],
   "source": [
    "f1_score(y_SMOTE_test,y_pred)"
   ]
  },
  {
   "cell_type": "markdown",
   "metadata": {},
   "source": [
    "# MLP Classifier"
   ]
  },
  {
   "cell_type": "code",
   "execution_count": 91,
   "metadata": {},
   "outputs": [],
   "source": [
    "MLP_Classifier = MLPClassifier(solver = 'adam', random_state = 42, max_iter = 1000 )\n",
    "parameters = {'hidden_layer_sizes': [(64,32,16)], 'learning_rate_init':[0.01]}\n",
    "best_MLP_Classifier = GridSearchCV(MLP_Classifier, parameters, cv = 5).fit(X_SMOTE, y_SMOTE)\n",
    "\n",
    "y_prob_MLP = best_MLP_Classifier.predict_proba(X_SMOTE_test)[:,1]"
   ]
  },
  {
   "cell_type": "code",
   "execution_count": 92,
   "metadata": {},
   "outputs": [
    {
     "name": "stdout",
     "output_type": "stream",
     "text": [
      "TPR -  0.821859850154253\n",
      "TNR -  0.8420229175848392\n",
      "FPR -  0.15797708241516087\n",
      "FNR -  0.17814014984574703\n"
     ]
    }
   ],
   "source": [
    "y_pred_MLP = results(y_SMOTE_test,y_prob_MLP,0.5)"
   ]
  },
  {
   "cell_type": "code",
   "execution_count": 93,
   "metadata": {},
   "outputs": [
    {
     "data": {
      "image/png": "[encoded data removed]",
      "text/plain": [
       "<Figure size 540x540 with 1 Axes>"
      ]
     },
     "metadata": {
      "needs_background": "light"
     },
     "output_type": "display_data"
    }
   ],
   "source": [
    "plot_confusionMatrix(y_SMOTE_test,y_pred_MLP)"
   ]
  },
  {
   "cell_type": "code",
   "execution_count": 94,
   "metadata": {},
   "outputs": [
    {
     "data": {
      "text/plain": [
       "0.8302298402804831"
      ]
     },
     "execution_count": 94,
     "metadata": {},
     "output_type": "execute_result"
    }
   ],
   "source": [
    "f1_score(y_SMOTE_test,y_pred_MLP)"
   ]
  },
  {
   "cell_type": "code",
   "execution_count": 97,
   "metadata": {},
   "outputs": [],
   "source": [
    "MLP_Classifier = MLPClassifier(solver = 'adam', random_state = 42, max_iter = 1000 )\n",
    "parameters = {'hidden_layer_sizes': [(68,)], 'learning_rate_init':[0.01]}\n",
    "best_MLP_Classifier = GridSearchCV(MLP_Classifier, parameters, cv = 5).fit(X_SMOTE, y_SMOTE)\n",
    "\n",
    "y_prob_MLP = best_MLP_Classifier.predict_proba(X_SMOTE_test)[:,1]"
   ]
  },
  {
   "cell_type": "code",
   "execution_count": 98,
   "metadata": {},
   "outputs": [
    {
     "name": "stdout",
     "output_type": "stream",
     "text": [
      "TPR -  0.8122520934332305\n",
      "TNR -  0.7747465843984134\n",
      "FPR -  0.2252534156015866\n",
      "FNR -  0.1877479065667695\n"
     ]
    }
   ],
   "source": [
    "y_pred_MLP = results(y_SMOTE_test,y_prob_MLP,0.5)"
   ]
  },
  {
   "cell_type": "code",
   "execution_count": 99,
   "metadata": {},
   "outputs": [
    {
     "data": {
      "image/png": "[encoded data removed]",
      "text/plain": [
       "<Figure size 540x540 with 1 Axes>"
      ]
     },
     "metadata": {
      "needs_background": "light"
     },
     "output_type": "display_data"
    }
   ],
   "source": [
    "plot_confusionMatrix(y_SMOTE_test,y_pred_MLP)"
   ]
  },
  {
   "cell_type": "code",
   "execution_count": 100,
   "metadata": {},
   "outputs": [
    {
     "data": {
      "text/plain": [
       "0.7973005126430316"
      ]
     },
     "execution_count": 100,
     "metadata": {},
     "output_type": "execute_result"
    }
   ],
   "source": [
    "f1_score(y_SMOTE_test,y_pred_MLP)"
   ]
  },
  {
   "cell_type": "code",
   "execution_count": 103,
   "metadata": {},
   "outputs": [],
   "source": [
    "MLP_Classifier = MLPClassifier(solver = 'adam', random_state = 42, max_iter = 1000 )\n",
    "parameters = {'hidden_layer_sizes': [(68,64,32,16,8,4)], 'learning_rate_init':[0.001]}\n",
    "best_MLP_Classifier = GridSearchCV(MLP_Classifier, parameters, cv = 5).fit(X_SMOTE, y_SMOTE)\n",
    "\n",
    "y_prob_MLP = best_MLP_Classifier.predict_proba(X_SMOTE_test)[:,1]"
   ]
  },
  {
   "cell_type": "code",
   "execution_count": 104,
   "metadata": {},
   "outputs": [
    {
     "name": "stdout",
     "output_type": "stream",
     "text": [
      "TPR -  0.706170118995152\n",
      "TNR -  0.8301895107977082\n",
      "FPR -  0.16981048920229175\n",
      "FNR -  0.29382988100484797\n"
     ]
    }
   ],
   "source": [
    "y_pred_MLP = results(y_SMOTE_test,y_prob_MLP,0.5)"
   ]
  },
  {
   "cell_type": "code",
   "execution_count": 105,
   "metadata": {},
   "outputs": [
    {
     "data": {
      "text/plain": [
       "0.7528543908283606"
      ]
     },
     "execution_count": 105,
     "metadata": {},
     "output_type": "execute_result"
    }
   ],
   "source": [
    "f1_score(y_SMOTE_test,y_pred_MLP)"
   ]
  },
  {
   "cell_type": "code",
   "execution_count": 106,
   "metadata": {},
   "outputs": [],
   "source": [
    "MLP_Classifier = MLPClassifier(solver = 'adam', random_state = 42, max_iter = 1000 )\n",
    "parameters = {'hidden_layer_sizes': [(68,64,32)], 'learning_rate_init':[0.001]}\n",
    "best_MLP_Classifier = GridSearchCV(MLP_Classifier, parameters, cv = 5).fit(X_SMOTE, y_SMOTE)\n",
    "\n",
    "y_prob_MLP = best_MLP_Classifier.predict_proba(X_SMOTE_test)[:,1]"
   ]
  },
  {
   "cell_type": "code",
   "execution_count": 110,
   "metadata": {},
   "outputs": [
    {
     "name": "stdout",
     "output_type": "stream",
     "text": [
      "TPR -  0.7204715733803437\n",
      "TNR -  0.8749008373732922\n",
      "FPR -  0.1250991626267078\n",
      "FNR -  0.2795284266196562\n"
     ]
    }
   ],
   "source": [
    "y_pred_MLP = results(y_SMOTE_test,y_prob_MLP,0.5)"
   ]
  },
  {
   "cell_type": "code",
   "execution_count": 111,
   "metadata": {},
   "outputs": [
    {
     "data": {
      "text/plain": [
       "0.7807574744483714"
      ]
     },
     "execution_count": 111,
     "metadata": {},
     "output_type": "execute_result"
    }
   ],
   "source": [
    "f1_score(y_SMOTE_test,y_pred_MLP)"
   ]
  },
  {
   "cell_type": "markdown",
   "metadata": {},
   "source": [
    "#  Summary of Models"
   ]
  },
  {
   "cell_type": "code",
   "execution_count": 74,
   "metadata": {},
   "outputs": [],
   "source": [
    "samplingSummaryTable = PrettyTable([\"Model\",\"Data\",\"F1-Score\"])"
   ]
  },
  {
   "cell_type": "code",
   "execution_count": 75,
   "metadata": {},
   "outputs": [],
   "source": [
    "samplingSummaryTable.add_row([\"LogisticRegression\", \"UnderSampling\", \"0.673\"])\n",
    "samplingSummaryTable.add_row([\"LogisticRegression\", \"OverSampling\", \"0.676\"])\n",
    "samplingSummaryTable.add_row([\"LogisticRegression\", \"HybridSampling\", \"0.671\"])\n",
    "samplingSummaryTable.add_row([\"LogisticRegression\", \"Smote\", \"0.691\"])\n",
    "samplingSummaryTable.add_row([\"DecisionTree\", \"UnderSampling\", \"0.657\"])\n",
    "samplingSummaryTable.add_row([\"DecisionTree\", \"OverSampling\", \"0.621\"])\n",
    "samplingSummaryTable.add_row([\"DecisionTree\", \"HybridSampling\", \"0.617\"])\n",
    "samplingSummaryTable.add_row([\"DecisionTree\", \"Smote\", \"0.887\"])\n",
    "samplingSummaryTable.add_row([\"RandomForest\", \"Smote\", \"0.912\"])\n",
    "samplingSummaryTable.add_row([\"AdaBoost\", \"Smote\", \"0.946\"])\n",
    "samplingSummaryTable.add_row([\"XgBoost\", \"Smote\", \"0.948\"])\n",
    "samplingSummaryTable.add_row([\"MLP\", \"Smote\", \"0.830\"])"
   ]
  },
  {
   "cell_type": "code",
   "execution_count": 76,
   "metadata": {},
   "outputs": [
    {
     "name": "stdout",
     "output_type": "stream",
     "text": [
      "+--------------------+----------------+----------+\n",
      "|       Model        |      Data      | F1-Score |\n",
      "+--------------------+----------------+----------+\n",
      "| LogisticRegression | UnderSampling  |  0.673   |\n",
      "| LogisticRegression |  OverSampling  |  0.676   |\n",
      "| LogisticRegression | HybridSampling |  0.671   |\n",
      "| LogisticRegression |     Smote      |  0.691   |\n",
      "|    DecisionTree    | UnderSampling  |  0.657   |\n",
      "|    DecisionTree    |  OverSampling  |  0.621   |\n",
      "|    DecisionTree    | HybridSampling |  0.617   |\n",
      "|    DecisionTree    |     Smote      |  0.887   |\n",
      "|    RandomForest    |     Smote      |  0.912   |\n",
      "|      AdaBoost      |     Smote      |  0.946   |\n",
      "|      XgBoost       |     Smote      |  0.948   |\n",
      "|        MLP         |     Smote      |  0.830   |\n",
      "+--------------------+----------------+----------+\n"
     ]
    }
   ],
   "source": [
    "print(samplingSummaryTable)"
   ]
  },
  {
   "cell_type": "markdown",
   "metadata": {},
   "source": [
    "# Conclusion"
   ]
  },
  {
   "cell_type": "markdown",
   "metadata": {},
   "source": [
    "As increase in FN or FP impact bank revenue negatively it is better to have model that has high TNR, TPR and there is always trae-off between them. With F1_score details and TP,TN,FP,FN values <b>XgBoost classifier with SMOTE sampled data is the best model.<b>"
   ]
  },
  {
   "cell_type": "code",
   "execution_count": null,
   "metadata": {},
   "outputs": [],
   "source": []
  }
 ],
 "metadata": {
  "kernelspec": {
   "display_name": "Python 3",
   "language": "python",
   "name": "python3"
  },
  "language_info": {
   "codemirror_mode": {
    "name": "ipython",
    "version": 3
   },
   "file_extension": ".py",
   "mimetype": "text/x-python",
   "name": "python",
   "nbconvert_exporter": "python",
   "pygments_lexer": "ipython3",
   "version": "3.8.5"
  }
 },
 "nbformat": 4,
 "nbformat_minor": 4
}
